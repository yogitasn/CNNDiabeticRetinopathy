{
 "cells": [
  {
   "cell_type": "code",
   "execution_count": 1,
   "metadata": {},
   "outputs": [
    {
     "name": "stderr",
     "output_type": "stream",
     "text": [
      "Using TensorFlow backend.\n"
     ]
    }
   ],
   "source": [
    "import numpy as np\n",
    "import pandas as pd\n",
    "import keras \n",
    "import os\n",
    "import time\n",
    "import sys\n",
    "import tensorflow as tf\n",
    "\n",
    "from PIL import ImageFile\n",
    "\n",
    "ImageFile.LOAD_TRUNCATED_IMAGES = True\n",
    "\n",
    "from skimage import io\n",
    "\n",
    "from skimage.transform import resize\n",
    "from tqdm import tqdm\n",
    "from sklearn.model_selection import train_test_split\n",
    "from cv2 import cv2\n",
    "from PIL import Image\n",
    "\n",
    "from matplotlib import pyplot as plt\n",
    "from keras.layers import Dense, Dropout, Flatten, Input, Activation\n",
    "from keras.layers.normalization import BatchNormalization\n",
    "from keras.preprocessing.image import ImageDataGenerator, array_to_img, img_to_array, load_img\n",
    "from keras.preprocessing import image\n",
    "from keras.utils import plot_model\n",
    "from keras.models import Model\n",
    "from keras.layers.convolutional import Conv2D\n",
    "from keras.layers.pooling import MaxPooling2D\n",
    "from keras.layers import Convolution2D, MaxPooling2D\n",
    "from keras.layers.convolutional import Conv2D\n",
    "from numpy import array\n",
    "from keras.models import Sequential\n",
    "from keras.utils import np_utils\n",
    "from keras import backend as K\n",
    "from keras.callbacks import EarlyStopping\n",
    "from keras.callbacks import TensorBoard\n",
    "from keras.layers.normalization import BatchNormalization\n",
    "from keras.optimizers import SGD\n",
    "from sklearn.model_selection import train_test_split\n",
    "from sklearn.metrics import recall_score\n",
    "from sklearn.metrics import precision_score\n",
    "from sklearn.utils import class_weight"
   ]
  },
  {
   "cell_type": "code",
   "execution_count": 2,
   "metadata": {},
   "outputs": [],
   "source": [
    "config = tf.ConfigProto()\n",
    "config.gpu_options.allow_growth = True\n",
    "sess = tf.Session(config=config)"
   ]
  },
  {
   "cell_type": "markdown",
   "metadata": {},
   "source": [
    "### Data is downloaded from kaggle: "
   ]
  },
  {
   "cell_type": "code",
   "execution_count": 3,
   "metadata": {},
   "outputs": [],
   "source": [
    "df_train = pd.read_csv('C:\\\\diabetic-retinopathy-detection\\\\trainlabels\\\\trainLabels.csv')"
   ]
  },
  {
   "cell_type": "markdown",
   "metadata": {},
   "source": [
    "### Lets take a look at all the labels. '10_left' is a name of the file whereas '0/1/2/3/4' are the labels '10_left' image of the left eye '10_right' image of the right eye for the same person"
   ]
  },
  {
   "cell_type": "code",
   "execution_count": 4,
   "metadata": {},
   "outputs": [
    {
     "data": {
      "text/html": [
       "<div>\n",
       "<style scoped>\n",
       "    .dataframe tbody tr th:only-of-type {\n",
       "        vertical-align: middle;\n",
       "    }\n",
       "\n",
       "    .dataframe tbody tr th {\n",
       "        vertical-align: top;\n",
       "    }\n",
       "\n",
       "    .dataframe thead th {\n",
       "        text-align: right;\n",
       "    }\n",
       "</style>\n",
       "<table border=\"1\" class=\"dataframe\">\n",
       "  <thead>\n",
       "    <tr style=\"text-align: right;\">\n",
       "      <th></th>\n",
       "      <th>image</th>\n",
       "      <th>level</th>\n",
       "    </tr>\n",
       "  </thead>\n",
       "  <tbody>\n",
       "    <tr>\n",
       "      <td>0</td>\n",
       "      <td>10_left</td>\n",
       "      <td>0</td>\n",
       "    </tr>\n",
       "    <tr>\n",
       "      <td>1</td>\n",
       "      <td>10_right</td>\n",
       "      <td>0</td>\n",
       "    </tr>\n",
       "    <tr>\n",
       "      <td>2</td>\n",
       "      <td>13_left</td>\n",
       "      <td>0</td>\n",
       "    </tr>\n",
       "    <tr>\n",
       "      <td>3</td>\n",
       "      <td>13_right</td>\n",
       "      <td>0</td>\n",
       "    </tr>\n",
       "    <tr>\n",
       "      <td>4</td>\n",
       "      <td>15_left</td>\n",
       "      <td>1</td>\n",
       "    </tr>\n",
       "  </tbody>\n",
       "</table>\n",
       "</div>"
      ],
      "text/plain": [
       "      image  level\n",
       "0   10_left      0\n",
       "1  10_right      0\n",
       "2   13_left      0\n",
       "3  13_right      0\n",
       "4   15_left      1"
      ]
     },
     "execution_count": 4,
     "metadata": {},
     "output_type": "execute_result"
    }
   ],
   "source": [
    "df_train.head()"
   ]
  },
  {
   "cell_type": "code",
   "execution_count": 5,
   "metadata": {},
   "outputs": [
    {
     "data": {
      "text/html": [
       "<div>\n",
       "<style scoped>\n",
       "    .dataframe tbody tr th:only-of-type {\n",
       "        vertical-align: middle;\n",
       "    }\n",
       "\n",
       "    .dataframe tbody tr th {\n",
       "        vertical-align: top;\n",
       "    }\n",
       "\n",
       "    .dataframe thead th {\n",
       "        text-align: right;\n",
       "    }\n",
       "</style>\n",
       "<table border=\"1\" class=\"dataframe\">\n",
       "  <thead>\n",
       "    <tr style=\"text-align: right;\">\n",
       "      <th></th>\n",
       "      <th>image</th>\n",
       "      <th>level</th>\n",
       "    </tr>\n",
       "  </thead>\n",
       "  <tbody>\n",
       "    <tr>\n",
       "      <td>35121</td>\n",
       "      <td>44347_right</td>\n",
       "      <td>0</td>\n",
       "    </tr>\n",
       "    <tr>\n",
       "      <td>35122</td>\n",
       "      <td>44348_left</td>\n",
       "      <td>0</td>\n",
       "    </tr>\n",
       "    <tr>\n",
       "      <td>35123</td>\n",
       "      <td>44348_right</td>\n",
       "      <td>0</td>\n",
       "    </tr>\n",
       "    <tr>\n",
       "      <td>35124</td>\n",
       "      <td>44349_left</td>\n",
       "      <td>0</td>\n",
       "    </tr>\n",
       "    <tr>\n",
       "      <td>35125</td>\n",
       "      <td>44349_right</td>\n",
       "      <td>1</td>\n",
       "    </tr>\n",
       "  </tbody>\n",
       "</table>\n",
       "</div>"
      ],
      "text/plain": [
       "             image  level\n",
       "35121  44347_right      0\n",
       "35122   44348_left      0\n",
       "35123  44348_right      0\n",
       "35124   44349_left      0\n",
       "35125  44349_right      1"
      ]
     },
     "execution_count": 5,
     "metadata": {},
     "output_type": "execute_result"
    }
   ],
   "source": [
    "df_train.tail()"
   ]
  },
  {
   "cell_type": "code",
   "execution_count": 6,
   "metadata": {},
   "outputs": [],
   "source": [
    "targets_series = pd.Series(df_train['level'])\n",
    "one_hot = pd.get_dummies(targets_series, sparse = True)"
   ]
  },
  {
   "cell_type": "markdown",
   "metadata": {},
   "source": [
    "### There are 5 types of labels 0/1/2/3/4, thry are distinguished as below \n",
    "### NDPR - Non Proliferative Diabetic Retinopathy\n",
    "### Class Name 0 Normal\n",
    "### 1 Mild NPDR 2 Moderate NPDR 3 Severe NPDR\n",
    "### 4 PDR"
   ]
  },
  {
   "cell_type": "code",
   "execution_count": 7,
   "metadata": {},
   "outputs": [],
   "source": [
    "one_hot_labels = np.asarray(one_hot)"
   ]
  },
  {
   "cell_type": "code",
   "execution_count": 8,
   "metadata": {},
   "outputs": [],
   "source": [
    "one_hot_labelsY = np.asarray(targets_series)"
   ]
  },
  {
   "cell_type": "code",
   "execution_count": 9,
   "metadata": {},
   "outputs": [
    {
     "data": {
      "text/plain": [
       "array([0, 0, 0, 0, 1, 2, 4, 4, 0, 1], dtype=int64)"
      ]
     },
     "execution_count": 9,
     "metadata": {},
     "output_type": "execute_result"
    }
   ],
   "source": [
    "one_hot_labelsY[:10]"
   ]
  },
  {
   "cell_type": "code",
   "execution_count": 10,
   "metadata": {},
   "outputs": [],
   "source": [
    "x_train = []\n",
    "y_train = []\n",
    "x_test = []"
   ]
  },
  {
   "cell_type": "code",
   "execution_count": 11,
   "metadata": {},
   "outputs": [],
   "source": [
    "df_test = []"
   ]
  },
  {
   "cell_type": "code",
   "execution_count": 12,
   "metadata": {},
   "outputs": [
    {
     "name": "stderr",
     "output_type": "stream",
     "text": [
      "100%|██████████| 35126/35126 [01:40<00:00, 350.14it/s]\n"
     ]
    }
   ],
   "source": [
    "i=0\n",
    "for f, breed in tqdm(df_train.values):\n",
    "    try:\n",
    "        img = image.load_img(('C:\\\\diabetic-retinopathy-detection\\\\trainlabels\\\\train_new\\\\{}.jpeg'.format(f)), target_size=(128, 128))\n",
    "        arr = image.img_to_array(img)\n",
    "        label = one_hot_labelsY[i]\n",
    "        x_train.append(arr)\n",
    "        y_train.append(label)\n",
    "        i += 1 \n",
    "    except:\n",
    "        pass"
   ]
  },
  {
   "cell_type": "code",
   "execution_count": 13,
   "metadata": {},
   "outputs": [
    {
     "data": {
      "image/png": "[encoded data removed]",
      "text/plain": [
       "<Figure size 432x288 with 1 Axes>"
      ]
     },
     "metadata": {
      "needs_background": "light"
     },
     "output_type": "display_data"
    }
   ],
   "source": [
    "from matplotlib import pyplot as plt\n",
    "plt.imshow(x_train[10011]/255)\n",
    "plt.show()"
   ]
  },
  {
   "cell_type": "code",
   "execution_count": 17,
   "metadata": {},
   "outputs": [],
   "source": [
    "x_valid = []\n",
    "y_valid = []"
   ]
  },
  {
   "cell_type": "code",
   "execution_count": 18,
   "metadata": {},
   "outputs": [],
   "source": [
    "X_train, X_valid, Y_train, Y_valid = train_test_split(x_train, y_train, test_size=0.1, random_state=1)"
   ]
  },
  {
   "cell_type": "code",
   "execution_count": 19,
   "metadata": {},
   "outputs": [],
   "source": [
    "y_train_raw = np.array(Y_train)"
   ]
  },
  {
   "cell_type": "code",
   "execution_count": 20,
   "metadata": {},
   "outputs": [],
   "source": [
    "x_train_raw = np.array(X_train)"
   ]
  },
  {
   "cell_type": "code",
   "execution_count": 21,
   "metadata": {},
   "outputs": [
    {
     "data": {
      "text/plain": [
       "(31613,)"
      ]
     },
     "execution_count": 21,
     "metadata": {},
     "output_type": "execute_result"
    }
   ],
   "source": [
    "y_train_raw.shape"
   ]
  },
  {
   "cell_type": "code",
   "execution_count": 22,
   "metadata": {},
   "outputs": [
    {
     "data": {
      "text/plain": [
       "(31613, 128, 128, 3)"
      ]
     },
     "execution_count": 22,
     "metadata": {},
     "output_type": "execute_result"
    }
   ],
   "source": [
    "x_train_raw.shape"
   ]
  },
  {
   "cell_type": "code",
   "execution_count": 30,
   "metadata": {},
   "outputs": [
    {
     "name": "stdout",
     "output_type": "stream",
     "text": [
      "Model flattened out to:  (None, 256)\n",
      "_________________________________________________________________\n",
      "Layer (type)                 Output Shape              Param #   \n",
      "=================================================================\n",
      "conv2d_16 (Conv2D)           (None, 31, 31, 32)        6176      \n",
      "_________________________________________________________________\n",
      "activation_21 (Activation)   (None, 31, 31, 32)        0         \n",
      "_________________________________________________________________\n",
      "conv2d_17 (Conv2D)           (None, 24, 24, 32)        65568     \n",
      "_________________________________________________________________\n",
      "activation_22 (Activation)   (None, 24, 24, 32)        0         \n",
      "_________________________________________________________________\n",
      "conv2d_18 (Conv2D)           (None, 17, 17, 32)        65568     \n",
      "_________________________________________________________________\n",
      "activation_23 (Activation)   (None, 17, 17, 32)        0         \n",
      "_________________________________________________________________\n",
      "max_pooling2d_8 (MaxPooling2 (None, 8, 8, 32)          0         \n",
      "_________________________________________________________________\n",
      "conv2d_19 (Conv2D)           (None, 5, 5, 64)          32832     \n",
      "_________________________________________________________________\n",
      "activation_24 (Activation)   (None, 5, 5, 64)          0         \n",
      "_________________________________________________________________\n",
      "dropout_7 (Dropout)          (None, 5, 5, 64)          0         \n",
      "_________________________________________________________________\n",
      "max_pooling2d_9 (MaxPooling2 (None, 2, 2, 64)          0         \n",
      "_________________________________________________________________\n",
      "flatten_4 (Flatten)          (None, 256)               0         \n",
      "_________________________________________________________________\n",
      "dense_7 (Dense)              (None, 128)               32896     \n",
      "_________________________________________________________________\n",
      "activation_25 (Activation)   (None, 128)               0         \n",
      "_________________________________________________________________\n",
      "dropout_8 (Dropout)          (None, 128)               0         \n",
      "_________________________________________________________________\n",
      "dense_8 (Dense)              (None, 5)                 645       \n",
      "_________________________________________________________________\n",
      "activation_26 (Activation)   (None, 5)                 0         \n",
      "=================================================================\n",
      "Total params: 203,685\n",
      "Trainable params: 203,685\n",
      "Non-trainable params: 0\n",
      "_________________________________________________________________\n"
     ]
    }
   ],
   "source": [
    "batch_size = 1000\n",
    "nb_classes = 5\n",
    "nb_epoch = 5\n",
    "\n",
    "img_rows, img_cols = 128, 128\n",
    "channels = 3\n",
    "nb_filters = 32\n",
    "kernel_size = (8,8)\n",
    "model = Sequential()\n",
    "model.add(Conv2D(nb_filters, (kernel_size[0], kernel_size[1]),\n",
    "\n",
    "padding='valid',\n",
    "\n",
    "strides=4,\n",
    "\n",
    "input_shape=(img_rows, img_cols, channels)))\n",
    "model.add(Activation('relu'))\n",
    "model.add(Conv2D(nb_filters, (kernel_size[0], kernel_size[1])))\n",
    "model.add(Activation('relu'))\n",
    "model.add(Conv2D(nb_filters, (kernel_size[0], kernel_size[1])))\n",
    "model.add(Activation('relu'))\n",
    "model.add(MaxPooling2D(pool_size=(2,2)))\n",
    "model.add(Conv2D(64, (4, 4)))\n",
    "model.add(Activation('relu'))\n",
    "model.add(Dropout(0.2))\n",
    "model.add(MaxPooling2D(pool_size=(2,2)))\n",
    "model.add(Flatten())\n",
    "print(\"Model flattened out to: \", model.output_shape)\n",
    "model.add(Dense(128))\n",
    "model.add(Activation('sigmoid'))\n",
    "model.add(Dropout(0.25))\n",
    "model.add(Dense(nb_classes))\n",
    "\n",
    "model.add(Activation('softmax'))\n",
    "model.summary()"
   ]
  },
  {
   "cell_type": "code",
   "execution_count": 32,
   "metadata": {},
   "outputs": [
    {
     "name": "stdout",
     "output_type": "stream",
     "text": [
      "Epoch 1/5\n",
      "31613/31613 [==============================] - ETA: 6:12 - loss: 0.9640 - acc: 0.708 - ETA: 5:43 - loss: 0.9489 - acc: 0.716 - ETA: 5:23 - loss: 0.9413 - acc: 0.714 - ETA: 5:08 - loss: 0.9299 - acc: 0.722 - ETA: 4:57 - loss: 0.9242 - acc: 0.725 - ETA: 4:44 - loss: 0.9261 - acc: 0.726 - ETA: 4:31 - loss: 0.9151 - acc: 0.730 - ETA: 4:19 - loss: 0.9161 - acc: 0.730 - ETA: 4:01 - loss: 0.9118 - acc: 0.731 - ETA: 3:38 - loss: 0.9088 - acc: 0.732 - ETA: 3:21 - loss: 0.9121 - acc: 0.731 - ETA: 3:12 - loss: 0.9084 - acc: 0.732 - ETA: 3:03 - loss: 0.9099 - acc: 0.731 - ETA: 2:53 - loss: 0.9082 - acc: 0.731 - ETA: 2:45 - loss: 0.9060 - acc: 0.733 - ETA: 2:36 - loss: 0.9073 - acc: 0.732 - ETA: 2:26 - loss: 0.9098 - acc: 0.732 - ETA: 2:17 - loss: 0.9124 - acc: 0.731 - ETA: 2:08 - loss: 0.9170 - acc: 0.730 - ETA: 1:58 - loss: 0.9199 - acc: 0.729 - ETA: 1:48 - loss: 0.9202 - acc: 0.729 - ETA: 1:38 - loss: 0.9186 - acc: 0.730 - ETA: 1:27 - loss: 0.9190 - acc: 0.730 - ETA: 1:17 - loss: 0.9157 - acc: 0.731 - ETA: 1:07 - loss: 0.9142 - acc: 0.732 - ETA: 57s - loss: 0.9155 - acc: 0.731 - ETA: 46s - loss: 0.9165 - acc: 0.73 - ETA: 36s - loss: 0.9139 - acc: 0.73 - ETA: 26s - loss: 0.9141 - acc: 0.73 - ETA: 16s - loss: 0.9153 - acc: 0.73 - ETA: 6s - loss: 0.9160 - acc: 0.7315 - 318s 10ms/step - loss: 0.9155 - acc: 0.7319\n"
     ]
    },
    {
     "name": "stderr",
     "output_type": "stream",
     "text": [
      "C:\\Users\\yogit\\Anaconda3\\lib\\site-packages\\keras\\callbacks.py:569: RuntimeWarning: Early stopping conditioned on metric `val_acc` which is not available. Available metrics are: loss,acc\n",
      "  (self.monitor, ','.join(list(logs.keys()))), RuntimeWarning\n"
     ]
    },
    {
     "name": "stdout",
     "output_type": "stream",
     "text": [
      "Epoch 2/5\n",
      "31613/31613 [==============================] - ETA: 5:41 - loss: 0.9524 - acc: 0.701 - ETA: 4:40 - loss: 0.9163 - acc: 0.719 - ETA: 4:42 - loss: 0.9324 - acc: 0.718 - ETA: 4:41 - loss: 0.9348 - acc: 0.718 - ETA: 4:33 - loss: 0.9303 - acc: 0.719 - ETA: 4:25 - loss: 0.9227 - acc: 0.723 - ETA: 4:18 - loss: 0.9199 - acc: 0.726 - ETA: 4:08 - loss: 0.9209 - acc: 0.726 - ETA: 3:56 - loss: 0.9192 - acc: 0.726 - ETA: 3:48 - loss: 0.9187 - acc: 0.727 - ETA: 3:37 - loss: 0.9143 - acc: 0.729 - ETA: 3:27 - loss: 0.9166 - acc: 0.729 - ETA: 3:17 - loss: 0.9140 - acc: 0.730 - ETA: 3:07 - loss: 0.9104 - acc: 0.731 - ETA: 2:56 - loss: 0.9115 - acc: 0.730 - ETA: 2:46 - loss: 0.9102 - acc: 0.731 - ETA: 2:36 - loss: 0.9099 - acc: 0.731 - ETA: 2:25 - loss: 0.9093 - acc: 0.731 - ETA: 2:16 - loss: 0.9092 - acc: 0.731 - ETA: 2:05 - loss: 0.9081 - acc: 0.731 - ETA: 1:54 - loss: 0.9076 - acc: 0.731 - ETA: 1:43 - loss: 0.9071 - acc: 0.731 - ETA: 1:33 - loss: 0.9081 - acc: 0.731 - ETA: 1:22 - loss: 0.9085 - acc: 0.730 - ETA: 1:11 - loss: 0.9102 - acc: 0.730 - ETA: 1:00 - loss: 0.9069 - acc: 0.731 - ETA: 49s - loss: 0.9054 - acc: 0.732 - ETA: 38s - loss: 0.9022 - acc: 0.73 - ETA: 28s - loss: 0.9020 - acc: 0.73 - ETA: 17s - loss: 0.9041 - acc: 0.73 - ETA: 6s - loss: 0.9047 - acc: 0.7324 - 341s 11ms/step - loss: 0.9040 - acc: 0.7328\n",
      "Epoch 3/5\n",
      "31613/31613 [==============================] - ETA: 4:51 - loss: 0.8743 - acc: 0.750 - ETA: 5:06 - loss: 0.9277 - acc: 0.729 - ETA: 4:59 - loss: 0.9169 - acc: 0.731 - ETA: 4:47 - loss: 0.9049 - acc: 0.735 - ETA: 4:25 - loss: 0.9051 - acc: 0.733 - ETA: 4:19 - loss: 0.9102 - acc: 0.730 - ETA: 4:11 - loss: 0.9085 - acc: 0.729 - ETA: 4:04 - loss: 0.9118 - acc: 0.729 - ETA: 3:53 - loss: 0.9101 - acc: 0.731 - ETA: 3:44 - loss: 0.9067 - acc: 0.732 - ETA: 3:35 - loss: 0.9045 - acc: 0.733 - ETA: 3:26 - loss: 0.9016 - acc: 0.735 - ETA: 3:16 - loss: 0.8997 - acc: 0.735 - ETA: 3:02 - loss: 0.8982 - acc: 0.735 - ETA: 2:52 - loss: 0.8988 - acc: 0.735 - ETA: 2:42 - loss: 0.8996 - acc: 0.735 - ETA: 2:32 - loss: 0.8996 - acc: 0.736 - ETA: 2:22 - loss: 0.9013 - acc: 0.734 - ETA: 2:11 - loss: 0.9011 - acc: 0.735 - ETA: 2:01 - loss: 0.9010 - acc: 0.734 - ETA: 1:51 - loss: 0.8981 - acc: 0.735 - ETA: 1:41 - loss: 0.8978 - acc: 0.735 - ETA: 1:30 - loss: 0.8977 - acc: 0.735 - ETA: 1:20 - loss: 0.8982 - acc: 0.734 - ETA: 1:09 - loss: 0.8965 - acc: 0.735 - ETA: 59s - loss: 0.8978 - acc: 0.734 - ETA: 48s - loss: 0.8995 - acc: 0.73 - ETA: 38s - loss: 0.9004 - acc: 0.73 - ETA: 27s - loss: 0.9003 - acc: 0.73 - ETA: 17s - loss: 0.9006 - acc: 0.73 - ETA: 6s - loss: 0.9026 - acc: 0.7338 - 333s 11ms/step - loss: 0.9048 - acc: 0.7331\n",
      "Epoch 4/5\n",
      "31613/31613 [==============================] - ETA: 5:28 - loss: 0.9224 - acc: 0.723 - ETA: 5:25 - loss: 0.8959 - acc: 0.729 - ETA: 4:46 - loss: 0.9118 - acc: 0.723 - ETA: 4:42 - loss: 0.9204 - acc: 0.720 - ETA: 4:34 - loss: 0.9141 - acc: 0.725 - ETA: 4:23 - loss: 0.9182 - acc: 0.723 - ETA: 4:06 - loss: 0.9087 - acc: 0.727 - ETA: 3:57 - loss: 0.9091 - acc: 0.728 - ETA: 3:48 - loss: 0.9039 - acc: 0.730 - ETA: 3:40 - loss: 0.9065 - acc: 0.729 - ETA: 3:26 - loss: 0.9038 - acc: 0.730 - ETA: 3:18 - loss: 0.9012 - acc: 0.731 - ETA: 3:05 - loss: 0.8998 - acc: 0.732 - ETA: 2:56 - loss: 0.9023 - acc: 0.732 - ETA: 2:47 - loss: 0.9014 - acc: 0.733 - ETA: 2:36 - loss: 0.9007 - acc: 0.733 - ETA: 2:27 - loss: 0.9008 - acc: 0.733 - ETA: 2:17 - loss: 0.9007 - acc: 0.734 - ETA: 2:07 - loss: 0.9004 - acc: 0.733 - ETA: 1:58 - loss: 0.9033 - acc: 0.732 - ETA: 1:48 - loss: 0.9022 - acc: 0.732 - ETA: 1:38 - loss: 0.9036 - acc: 0.731 - ETA: 1:28 - loss: 0.9029 - acc: 0.731 - ETA: 1:18 - loss: 0.9034 - acc: 0.731 - ETA: 1:08 - loss: 0.9032 - acc: 0.732 - ETA: 57s - loss: 0.9038 - acc: 0.732 - ETA: 47s - loss: 0.9034 - acc: 0.73 - ETA: 37s - loss: 0.9032 - acc: 0.73 - ETA: 27s - loss: 0.9006 - acc: 0.73 - ETA: 16s - loss: 0.9003 - acc: 0.73 - ETA: 6s - loss: 0.8999 - acc: 0.7333 - 329s 10ms/step - loss: 0.8997 - acc: 0.7333\n",
      "Epoch 5/5\n",
      "31613/31613 [==============================] - ETA: 5:08 - loss: 0.8853 - acc: 0.734 - ETA: 4:37 - loss: 0.8723 - acc: 0.740 - ETA: 4:20 - loss: 0.9096 - acc: 0.724 - ETA: 3:50 - loss: 0.9140 - acc: 0.724 - ETA: 3:44 - loss: 0.9125 - acc: 0.723 - ETA: 3:43 - loss: 0.9167 - acc: 0.723 - ETA: 3:43 - loss: 0.9184 - acc: 0.722 - ETA: 3:38 - loss: 0.9184 - acc: 0.723 - ETA: 3:32 - loss: 0.9146 - acc: 0.725 - ETA: 3:27 - loss: 0.9130 - acc: 0.726 - ETA: 3:18 - loss: 0.9107 - acc: 0.727 - ETA: 3:11 - loss: 0.9055 - acc: 0.728 - ETA: 3:03 - loss: 0.9073 - acc: 0.727 - ETA: 2:54 - loss: 0.9051 - acc: 0.728 - ETA: 2:45 - loss: 0.9062 - acc: 0.729 - ETA: 2:36 - loss: 0.9069 - acc: 0.728 - ETA: 2:26 - loss: 0.9077 - acc: 0.728 - ETA: 2:17 - loss: 0.9074 - acc: 0.728 - ETA: 2:08 - loss: 0.9038 - acc: 0.729 - ETA: 1:56 - loss: 0.9031 - acc: 0.729 - ETA: 1:46 - loss: 0.9036 - acc: 0.729 - ETA: 1:37 - loss: 0.9022 - acc: 0.729 - ETA: 1:27 - loss: 0.8989 - acc: 0.730 - ETA: 1:16 - loss: 0.8978 - acc: 0.731 - ETA: 1:05 - loss: 0.8960 - acc: 0.731 - ETA: 54s - loss: 0.8946 - acc: 0.732 - ETA: 43s - loss: 0.8952 - acc: 0.73 - ETA: 34s - loss: 0.8951 - acc: 0.73 - ETA: 24s - loss: 0.8957 - acc: 0.73 - ETA: 15s - loss: 0.8946 - acc: 0.73 - ETA: 5s - loss: 0.8929 - acc: 0.7332 - 297s 9ms/step - loss: 0.8928 - acc: 0.7335\n"
     ]
    }
   ],
   "source": [
    "from keras import optimizers\n",
    "opt = optimizers.adam(lr=0.001, decay=0.0)\n",
    "model.compile(optimizer= opt, \n",
    "              loss='sparse_categorical_crossentropy',\n",
    "              metrics=['accuracy'])\n",
    "stop = EarlyStopping(monitor='val_acc',\n",
    "                            min_delta=0.001,\n",
    "                            patience=2,\n",
    "                            verbose=0,\n",
    "                            mode='auto')\n",
    "tensor_board = TensorBoard(log_dir='./Graph', histogram_freq=0, write_graph=True, write_images=True)\n",
    "\n",
    "with tf.device('/device:GPU:0'):\n",
    "    model.fit(x_train_raw, y_train_raw, batch_size=batch_size, epochs=nb_epoch,\n",
    "                verbose=1,\n",
    "                callbacks=[stop, tensor_board])"
   ]
  },
  {
   "cell_type": "code",
   "execution_count": 36,
   "metadata": {},
   "outputs": [],
   "source": [
    "x_valid_raw = np.array(X_valid)\n",
    "y_valid_raw = np.array(Y_valid)"
   ]
  },
  {
   "cell_type": "code",
   "execution_count": 37,
   "metadata": {},
   "outputs": [
    {
     "name": "stdout",
     "output_type": "stream",
     "text": [
      "3513/3513 [==============================] - ETA: 17 - ETA: 15 - ETA: 15 - ETA: 14 - ETA: 14 - ETA: 14 - ETA: 14 - ETA: 13 - ETA: 13 - ETA: 13 - ETA: 13 - ETA: 13 - ETA: 12 - ETA: 12 - ETA: 12 - ETA: 12 - ETA: 12 - ETA: 12 - ETA: 11 - ETA: 11 - ETA: 11 - ETA: 11 - ETA: 11 - ETA: 11 - ETA: 11 - ETA: 11 - ETA: 11 - ETA: 10 - ETA: 10 - ETA: 10 - ETA: 10 - ETA: 10 - ETA: 10 - ETA: 9 - ETA:  - ETA:  - ETA:  - ETA:  - ETA:  - ETA:  - ETA:  - ETA:  - ETA:  - ETA:  - ETA:  - ETA:  - ETA:  - ETA:  - ETA:  - ETA:  - ETA:  - ETA:  - ETA:  - ETA:  - ETA:  - ETA:  - ETA:  - ETA:  - ETA:  - ETA:  - ETA:  - ETA:  - ETA:  - ETA:  - ETA:  - ETA:  - ETA:  - ETA:  - ETA:  - ETA:  - ETA:  - ETA:  - ETA:  - ETA:  - ETA:  - ETA:  - ETA:  - ETA:  - ETA:  - ETA:  - ETA:  - ETA:  - ETA:  - ETA:  - ETA:  - ETA:  - ETA:  - ETA:  - ETA:  - ETA:  - ETA:  - ETA:  - ETA:  - ETA:  - ETA:  - ETA:  - ETA:  - ETA:  - ETA:  - ETA:  - ETA:  - ETA:  - ETA:  - ETA:  - ETA:  - ETA:  - ETA:  - ETA:  - ETA:  - 14s 4ms/step\n"
     ]
    }
   ],
   "source": [
    "test_loss, test_acc = model.evaluate(x_valid_raw, y_valid_raw)"
   ]
  },
  {
   "cell_type": "code",
   "execution_count": 38,
   "metadata": {},
   "outputs": [
    {
     "data": {
      "text/plain": [
       "0.8404576511522863"
      ]
     },
     "execution_count": 38,
     "metadata": {},
     "output_type": "execute_result"
    }
   ],
   "source": [
    "test_loss"
   ]
  },
  {
   "cell_type": "code",
   "execution_count": 39,
   "metadata": {},
   "outputs": [
    {
     "data": {
      "text/plain": [
       "0.7466552804719679"
      ]
     },
     "execution_count": 39,
     "metadata": {},
     "output_type": "execute_result"
    }
   ],
   "source": [
    "test_acc"
   ]
  },
  {
   "cell_type": "code",
   "execution_count": 40,
   "metadata": {},
   "outputs": [
    {
     "name": "stdout",
     "output_type": "stream",
     "text": [
      "Predicting\n",
      "Test score: 0.8404576511522863\n",
      "Test accuracy: 0.7466552804719679\n",
      "Precision:  1.0\n",
      "Recall:  1.0\n"
     ]
    }
   ],
   "source": [
    "print(\"Predicting\")\n",
    "y_pred = model.predict(x_valid_raw)\n",
    "score = model.evaluate(x_valid_raw, y_valid_raw, verbose=0)\n",
    "print('Test score:', score[0])\n",
    "print('Test accuracy:', score[1])\n",
    "y_pred = [np.argmax(y) for y in y_pred]\n",
    "y_test = [np.argmax(y) for y in y_valid_raw]\n",
    "\n",
    "precision = precision_score(y_test, y_pred, average='weighted')\n",
    "\n",
    "recall = recall_score(y_test, y_pred, average='weighted')\n",
    "\n",
    "print(\"Precision: \", precision)\n",
    "\n",
    "print(\"Recall: \", recall)"
   ]
  },
  {
   "cell_type": "code",
   "execution_count": null,
   "metadata": {},
   "outputs": [],
   "source": []
  },
  {
   "cell_type": "code",
   "execution_count": null,
   "metadata": {},
   "outputs": [],
   "source": []
  }
 ],
 "metadata": {
  "kernelspec": {
   "display_name": "Python 3",
   "language": "python",
   "name": "python3"
  },
  "language_info": {
   "codemirror_mode": {
    "name": "ipython",
    "version": 3
   },
   "file_extension": ".py",
   "mimetype": "text/x-python",
   "name": "python",
   "nbconvert_exporter": "python",
   "pygments_lexer": "ipython3",
   "version": "3.7.4"
  }
 },
 "nbformat": 4,
 "nbformat_minor": 4
}
