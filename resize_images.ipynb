{
 "cells": [
  {
   "cell_type": "code",
   "execution_count": null,
   "metadata": {},
   "outputs": [],
   "source": [
    "### To be Executed just one time\n",
    "path='C:\\\\diabetic-retinopathy-detection\\\\trainlabels\\\\train\\\\'\n",
    "new_path='C:\\\\diabetic-retinopathy-detection\\\\trainlabels\\\\train_new\\\\'\n",
    "\n",
    "start_time = time.time()\n",
    "if not os.path.exists(new_path):\n",
    "\n",
    "    os.makedirs(new_path)\n",
    "\n",
    "dirs = [l for l in os.listdir(path) if l != '.DS_Store']\n",
    "\n",
    "total = 0\n",
    "\n",
    "\n",
    "\n",
    "for item in dirs:\n",
    "\n",
    "    img = io.imread(path+item)\n",
    "\n",
    "    y,x,channel = img.shape\n",
    "\n",
    "    startx = x//2-(1800//2)\n",
    "\n",
    "    starty = y//2-(1800//2)\n",
    "\n",
    "    img = img[starty:starty+1800,startx:startx+1800]\n",
    "\n",
    "    img = resize(img, (256,256))\n",
    "\n",
    "    io.imsave(str(new_path + item), img).astype(np.uint8)\n",
    "\n",
    "    total += 1\n",
    "print(\"Completed\")\n",
    "\n",
    "print(\"--- %s seconds ---\" % (time.time() - start_time))"
   ]
  },
  {
   "cell_type": "code",
   "execution_count": 1,
   "metadata": {},
   "outputs": [
    {
     "data": {
      "text/plain": [
       "<Figure size 640x480 with 1 Axes>"
      ]
     },
     "metadata": {},
     "output_type": "display_data"
    }
   ],
   "source": [
    "import matplotlib.pyplot as plt\n",
    "import matplotlib.image as mpimg\n",
    "\n",
    "plt.imshow(mpimg.imread('C:\\\\diabetic-retinopathy-detection\\\\trainlabels\\\\train_new\\\\10_left.jpeg'))\n",
    "plt.show()"
   ]
  },
  {
   "cell_type": "code",
   "execution_count": null,
   "metadata": {},
   "outputs": [],
   "source": []
  }
 ],
 "metadata": {
  "kernelspec": {
   "display_name": "Python 3",
   "language": "python",
   "name": "python3"
  },
  "language_info": {
   "codemirror_mode": {
    "name": "ipython",
    "version": 3
   },
   "file_extension": ".py",
   "mimetype": "text/x-python",
   "name": "python",
   "nbconvert_exporter": "python",
   "pygments_lexer": "ipython3",
   "version": "3.7.4"
  }
 },
 "nbformat": 4,
 "nbformat_minor": 4
}
