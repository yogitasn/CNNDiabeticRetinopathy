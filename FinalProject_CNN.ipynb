{
 "cells": [
  {
   "cell_type": "code",
   "execution_count": 1,
   "metadata": {},
   "outputs": [
    {
     "name": "stderr",
     "output_type": "stream",
     "text": [
      "Using TensorFlow backend.\n"
     ]
    }
   ],
   "source": [
    "import numpy as np # linear algebra\n",
    "import pandas as pd # data processing, CSV file I/O (e.g. pd.read_csv)\n",
    "import keras \n",
    "\n",
    "from tqdm import tqdm\n",
    "import os\n",
    "from sklearn.model_selection import train_test_split\n",
    "from cv2 import cv2\n",
    "from PIL import Image\n",
    "import tensorflow as tf\n",
    "from matplotlib import pyplot as plt\n",
    "\n",
    "from keras.layers import Dense, Dropout, Flatten, Input\n",
    "from keras.layers.normalization import BatchNormalization\n",
    "from keras.preprocessing.image import ImageDataGenerator, array_to_img, img_to_array, load_img\n",
    "from keras.preprocessing import image\n",
    "from keras.utils import plot_model\n",
    "from keras.models import Model\n",
    "from keras.layers.convolutional import Conv2D\n",
    "from keras.layers.pooling import MaxPooling2D\n",
    "from numpy import array"
   ]
  },
  {
   "cell_type": "code",
   "execution_count": 2,
   "metadata": {},
   "outputs": [],
   "source": [
    "import tensorflow as tf\n",
    "config = tf.ConfigProto()\n",
    "config.gpu_options.allow_growth = True\n",
    "sess = tf.Session(config=config)"
   ]
  },
  {
   "cell_type": "markdown",
   "metadata": {},
   "source": [
    "### Data is downloaded from kaggle: "
   ]
  },
  {
   "cell_type": "code",
   "execution_count": 3,
   "metadata": {},
   "outputs": [],
   "source": [
    "df_train = pd.read_csv('C:\\\\Users\\\\yogit\\\\OneDrive\\\\Documents\\\\diabetic-retinopathy-detection\\\\trainlabels\\\\trainLabels.csv')"
   ]
  },
  {
   "cell_type": "markdown",
   "metadata": {},
   "source": [
    "### Lets take a look at all the labels. '10_left' is a name of the file whereas '0/1/2/3/4' are the labels '10_left' image of the left eye '10_right' image of the right eye for the same person"
   ]
  },
  {
   "cell_type": "code",
   "execution_count": 4,
   "metadata": {},
   "outputs": [
    {
     "data": {
      "text/html": [
       "<div>\n",
       "<style scoped>\n",
       "    .dataframe tbody tr th:only-of-type {\n",
       "        vertical-align: middle;\n",
       "    }\n",
       "\n",
       "    .dataframe tbody tr th {\n",
       "        vertical-align: top;\n",
       "    }\n",
       "\n",
       "    .dataframe thead th {\n",
       "        text-align: right;\n",
       "    }\n",
       "</style>\n",
       "<table border=\"1\" class=\"dataframe\">\n",
       "  <thead>\n",
       "    <tr style=\"text-align: right;\">\n",
       "      <th></th>\n",
       "      <th>image</th>\n",
       "      <th>level</th>\n",
       "    </tr>\n",
       "  </thead>\n",
       "  <tbody>\n",
       "    <tr>\n",
       "      <td>0</td>\n",
       "      <td>10_left</td>\n",
       "      <td>0</td>\n",
       "    </tr>\n",
       "    <tr>\n",
       "      <td>1</td>\n",
       "      <td>10_right</td>\n",
       "      <td>0</td>\n",
       "    </tr>\n",
       "    <tr>\n",
       "      <td>2</td>\n",
       "      <td>13_left</td>\n",
       "      <td>0</td>\n",
       "    </tr>\n",
       "    <tr>\n",
       "      <td>3</td>\n",
       "      <td>13_right</td>\n",
       "      <td>0</td>\n",
       "    </tr>\n",
       "    <tr>\n",
       "      <td>4</td>\n",
       "      <td>15_left</td>\n",
       "      <td>1</td>\n",
       "    </tr>\n",
       "  </tbody>\n",
       "</table>\n",
       "</div>"
      ],
      "text/plain": [
       "      image  level\n",
       "0   10_left      0\n",
       "1  10_right      0\n",
       "2   13_left      0\n",
       "3  13_right      0\n",
       "4   15_left      1"
      ]
     },
     "execution_count": 4,
     "metadata": {},
     "output_type": "execute_result"
    }
   ],
   "source": [
    "df_train.head()"
   ]
  },
  {
   "cell_type": "code",
   "execution_count": 5,
   "metadata": {},
   "outputs": [
    {
     "data": {
      "text/html": [
       "<div>\n",
       "<style scoped>\n",
       "    .dataframe tbody tr th:only-of-type {\n",
       "        vertical-align: middle;\n",
       "    }\n",
       "\n",
       "    .dataframe tbody tr th {\n",
       "        vertical-align: top;\n",
       "    }\n",
       "\n",
       "    .dataframe thead th {\n",
       "        text-align: right;\n",
       "    }\n",
       "</style>\n",
       "<table border=\"1\" class=\"dataframe\">\n",
       "  <thead>\n",
       "    <tr style=\"text-align: right;\">\n",
       "      <th></th>\n",
       "      <th>image</th>\n",
       "      <th>level</th>\n",
       "    </tr>\n",
       "  </thead>\n",
       "  <tbody>\n",
       "    <tr>\n",
       "      <td>35121</td>\n",
       "      <td>44347_right</td>\n",
       "      <td>0</td>\n",
       "    </tr>\n",
       "    <tr>\n",
       "      <td>35122</td>\n",
       "      <td>44348_left</td>\n",
       "      <td>0</td>\n",
       "    </tr>\n",
       "    <tr>\n",
       "      <td>35123</td>\n",
       "      <td>44348_right</td>\n",
       "      <td>0</td>\n",
       "    </tr>\n",
       "    <tr>\n",
       "      <td>35124</td>\n",
       "      <td>44349_left</td>\n",
       "      <td>0</td>\n",
       "    </tr>\n",
       "    <tr>\n",
       "      <td>35125</td>\n",
       "      <td>44349_right</td>\n",
       "      <td>1</td>\n",
       "    </tr>\n",
       "  </tbody>\n",
       "</table>\n",
       "</div>"
      ],
      "text/plain": [
       "             image  level\n",
       "35121  44347_right      0\n",
       "35122   44348_left      0\n",
       "35123  44348_right      0\n",
       "35124   44349_left      0\n",
       "35125  44349_right      1"
      ]
     },
     "execution_count": 5,
     "metadata": {},
     "output_type": "execute_result"
    }
   ],
   "source": [
    "df_train.tail()"
   ]
  },
  {
   "cell_type": "code",
   "execution_count": 6,
   "metadata": {},
   "outputs": [],
   "source": [
    "targets_series = pd.Series(df_train['level'])\n",
    "one_hot = pd.get_dummies(targets_series, sparse = True)"
   ]
  },
  {
   "cell_type": "markdown",
   "metadata": {},
   "source": [
    "### There are 5 types of labels 0/1/2/3/4, thry are distinguished as below \n",
    "### NDPR - Non Proliferative Diabetic Retinopathy\n",
    "### Class Name 0 Normal\n",
    "### 1 Mild NPDR 2 Moderate NPDR 3 Severe NPDR\n",
    "### 4 PDR"
   ]
  },
  {
   "cell_type": "code",
   "execution_count": 7,
   "metadata": {},
   "outputs": [],
   "source": [
    "one_hot_labels = np.asarray(one_hot)"
   ]
  },
  {
   "cell_type": "code",
   "execution_count": 8,
   "metadata": {},
   "outputs": [],
   "source": [
    "one_hot_labelsY = np.asarray(targets_series)"
   ]
  },
  {
   "cell_type": "code",
   "execution_count": 9,
   "metadata": {},
   "outputs": [
    {
     "data": {
      "text/plain": [
       "array([0, 0, 0, 0, 1, 2, 4, 4, 0, 1], dtype=int64)"
      ]
     },
     "execution_count": 9,
     "metadata": {},
     "output_type": "execute_result"
    }
   ],
   "source": [
    "one_hot_labelsY[:10]"
   ]
  },
  {
   "cell_type": "code",
   "execution_count": 10,
   "metadata": {},
   "outputs": [],
   "source": [
    "\n",
    "x_train = []\n",
    "y_train = []\n",
    "x_test = []"
   ]
  },
  {
   "cell_type": "code",
   "execution_count": 11,
   "metadata": {},
   "outputs": [],
   "source": [
    "df_test = []"
   ]
  },
  {
   "cell_type": "code",
   "execution_count": 12,
   "metadata": {},
   "outputs": [],
   "source": [
    "\n",
    "df_test = df_train[:20000]"
   ]
  },
  {
   "cell_type": "code",
   "execution_count": 18,
   "metadata": {},
   "outputs": [
    {
     "name": "stderr",
     "output_type": "stream",
     "text": [
      "100%|██████████| 20000/20000 [30:27<00:00, 10.95it/s]\n"
     ]
    }
   ],
   "source": [
    "i=0\n",
    "for f, breed in tqdm(df_test.values):\n",
    "    try:\n",
    "        img = image.load_img(('C:\\\\Users\\\\yogit\\\\OneDrive\\\\Documents\\\\diabetic-retinopathy-detection\\\\train\\\\train\\\\{}.jpeg'.format(f)), target_size=(128, 128))\n",
    "        arr = image.img_to_array(img)\n",
    "        label = one_hot_labelsY[i]\n",
    "        x_train.append(arr)\n",
    "        y_train.append(label)\n",
    "        i += 1 \n",
    "    except:\n",
    "        pass"
   ]
  },
  {
   "cell_type": "code",
   "execution_count": 19,
   "metadata": {},
   "outputs": [
    {
     "data": {
      "text/plain": [
       "20000"
      ]
     },
     "execution_count": 19,
     "metadata": {},
     "output_type": "execute_result"
    }
   ],
   "source": [
    "len(x_train)"
   ]
  },
  {
   "cell_type": "code",
   "execution_count": 20,
   "metadata": {},
   "outputs": [
    {
     "data": {
      "image/png": "[encoded data removed]",
      "text/plain": [
       "<Figure size 432x288 with 1 Axes>"
      ]
     },
     "metadata": {
      "needs_background": "light"
     },
     "output_type": "display_data"
    }
   ],
   "source": [
    "from matplotlib import pyplot as plt\n",
    "plt.imshow(x_train[10011]/255)\n",
    "plt.show()"
   ]
  },
  {
   "cell_type": "code",
   "execution_count": 37,
   "metadata": {},
   "outputs": [],
   "source": [
    "\n",
    "x_valid = []\n",
    "y_valid = []"
   ]
  },
  {
   "cell_type": "code",
   "execution_count": 38,
   "metadata": {},
   "outputs": [],
   "source": [
    "X_train, X_valid, Y_train, Y_valid = train_test_split(x_train, y_train, test_size=0.1, random_state=1)"
   ]
  },
  {
   "cell_type": "code",
   "execution_count": 39,
   "metadata": {},
   "outputs": [],
   "source": [
    "y_train_raw = np.array(Y_train)"
   ]
  },
  {
   "cell_type": "code",
   "execution_count": 40,
   "metadata": {},
   "outputs": [],
   "source": [
    "x_train_raw = np.array(X_train)"
   ]
  },
  {
   "cell_type": "code",
   "execution_count": 41,
   "metadata": {},
   "outputs": [],
   "source": [
    "visible = Input(shape=(128,128,3))\n",
    "conv6 = Conv2D(16, kernel_size=(6,6), activation='relu')(visible)\n",
    "pool3 = MaxPooling2D(pool_size=(2, 2))(conv6)\n",
    "bat1 = BatchNormalization(axis = 1)(pool3)\n",
    "\n",
    "conv2 = Conv2D(64, kernel_size=(4,4), activation='relu')(pool3)\n",
    "pool2 = MaxPooling2D(pool_size=(2, 2))(conv2)\n",
    "conv3 = Conv2D(64, kernel_size=(2,2), activation='relu')(pool2)\n",
    "conv4 = Conv2D(128, kernel_size=(2,2), activation='relu')(conv3)\n",
    "conv5 = Conv2D(256, kernel_size=(2,2), activation='relu')(conv4)\n",
    "\n",
    "#pool3 = MaxPooling2D(pool_size=(2, 2))(conv3)\n",
    "flat = Flatten()(conv5)\n",
    "hidden1 = Dense(128, activation='relu')(flat)\n",
    "drop1 = Dropout(0.2)(hidden1)\n",
    "\n",
    "hidden2 = Dense(64, activation='relu')(drop1)\n",
    "drop2 = Dropout(0.2)(hidden2)\n",
    "output = Dense(5, activation='sigmoid')(drop2)\n",
    "#output = Dense(1, activation='sigmoid')(flat)\n",
    "model = Model(inputs=visible, outputs=output)"
   ]
  },
  {
   "cell_type": "code",
   "execution_count": 42,
   "metadata": {},
   "outputs": [],
   "source": [
    "from keras import optimizers\n",
    "opt = optimizers.adam(lr=0.001, decay=0.0)"
   ]
  },
  {
   "cell_type": "code",
   "execution_count": 43,
   "metadata": {},
   "outputs": [],
   "source": [
    "model.compile(optimizer= opt, \n",
    "              loss='sparse_categorical_crossentropy',\n",
    "              metrics=['accuracy'])"
   ]
  },
  {
   "cell_type": "code",
   "execution_count": 44,
   "metadata": {},
   "outputs": [
    {
     "name": "stdout",
     "output_type": "stream",
     "text": [
      "_________________________________________________________________\n",
      "Layer (type)                 Output Shape              Param #   \n",
      "=================================================================\n",
      "input_4 (InputLayer)         (None, 128, 128, 3)       0         \n",
      "_________________________________________________________________\n",
      "conv2d_16 (Conv2D)           (None, 123, 123, 16)      1744      \n",
      "_________________________________________________________________\n",
      "max_pooling2d_7 (MaxPooling2 (None, 61, 61, 16)        0         \n",
      "_________________________________________________________________\n",
      "conv2d_17 (Conv2D)           (None, 58, 58, 64)        16448     \n",
      "_________________________________________________________________\n",
      "max_pooling2d_8 (MaxPooling2 (None, 29, 29, 64)        0         \n",
      "_________________________________________________________________\n",
      "conv2d_18 (Conv2D)           (None, 28, 28, 64)        16448     \n",
      "_________________________________________________________________\n",
      "conv2d_19 (Conv2D)           (None, 27, 27, 128)       32896     \n",
      "_________________________________________________________________\n",
      "conv2d_20 (Conv2D)           (None, 26, 26, 256)       131328    \n",
      "_________________________________________________________________\n",
      "flatten_4 (Flatten)          (None, 173056)            0         \n",
      "_________________________________________________________________\n",
      "dense_10 (Dense)             (None, 128)               22151296  \n",
      "_________________________________________________________________\n",
      "dropout_7 (Dropout)          (None, 128)               0         \n",
      "_________________________________________________________________\n",
      "dense_11 (Dense)             (None, 64)                8256      \n",
      "_________________________________________________________________\n",
      "dropout_8 (Dropout)          (None, 64)                0         \n",
      "_________________________________________________________________\n",
      "dense_12 (Dense)             (None, 5)                 325       \n",
      "=================================================================\n",
      "Total params: 22,358,741\n",
      "Trainable params: 22,358,741\n",
      "Non-trainable params: 0\n",
      "_________________________________________________________________\n"
     ]
    }
   ],
   "source": [
    "model.summary()"
   ]
  },
  {
   "cell_type": "code",
   "execution_count": 30,
   "metadata": {},
   "outputs": [
    {
     "name": "stdout",
     "output_type": "stream",
     "text": [
      "WARNING:tensorflow:From C:\\Users\\yogit\\Anaconda3\\lib\\site-packages\\tensorflow_core\\python\\ops\\math_grad.py:1424: where (from tensorflow.python.ops.array_ops) is deprecated and will be removed in a future version.\n",
      "Instructions for updating:\n",
      "Use tf.where in 2.0, which has the same broadcast rule as np.where\n",
      "WARNING:tensorflow:From C:\\Users\\yogit\\Anaconda3\\lib\\site-packages\\keras\\backend\\tensorflow_backend.py:986: The name tf.assign_add is deprecated. Please use tf.compat.v1.assign_add instead.\n",
      "\n",
      "WARNING:tensorflow:From C:\\Users\\yogit\\Anaconda3\\lib\\site-packages\\keras\\backend\\tensorflow_backend.py:973: The name tf.assign is deprecated. Please use tf.compat.v1.assign instead.\n",
      "\n",
      "Epoch 1/5\n",
      "18000/18000 [==============================] - ETA: 21:04 - loss: 2.4854 - acc: 0.08 - ETA: 14:12 - loss: 2.7278 - acc: 0.37 - ETA: 12:40 - loss: 2.6222 - acc: 0.51 - ETA: 11:58 - loss: 2.6025 - acc: 0.56 - ETA: 10:53 - loss: 2.4376 - acc: 0.58 - ETA: 10:35 - loss: 2.3408 - acc: 0.60 - ETA: 10:26 - loss: 2.2876 - acc: 0.61 - ETA: 10:21 - loss: 2.2268 - acc: 0.63 - ETA: 10:01 - loss: 2.2059 - acc: 0.64 - ETA: 9:49 - loss: 2.2100 - acc: 0.6594 - ETA: 9:28 - loss: 2.1879 - acc: 0.669 - ETA: 9:24 - loss: 2.1765 - acc: 0.673 - ETA: 9:07 - loss: 2.1577 - acc: 0.679 - ETA: 9:02 - loss: 2.1223 - acc: 0.680 - ETA: 8:53 - loss: 2.1579 - acc: 0.683 - ETA: 8:46 - loss: 2.1647 - acc: 0.687 - ETA: 8:39 - loss: 2.2004 - acc: 0.691 - ETA: 8:34 - loss: 2.2247 - acc: 0.693 - ETA: 8:29 - loss: 2.2408 - acc: 0.694 - ETA: 8:20 - loss: 2.2612 - acc: 0.699 - ETA: 8:13 - loss: 2.2432 - acc: 0.700 - ETA: 8:04 - loss: 2.2327 - acc: 0.702 - ETA: 7:59 - loss: 2.2402 - acc: 0.702 - ETA: 7:52 - loss: 2.2670 - acc: 0.705 - ETA: 7:45 - loss: 2.2818 - acc: 0.704 - ETA: 7:41 - loss: 2.2905 - acc: 0.705 - ETA: 7:38 - loss: 2.2895 - acc: 0.705 - ETA: 7:31 - loss: 2.2972 - acc: 0.706 - ETA: 7:26 - loss: 2.3129 - acc: 0.705 - ETA: 7:21 - loss: 2.3238 - acc: 0.706 - ETA: 7:18 - loss: 2.3253 - acc: 0.706 - ETA: 7:12 - loss: 2.3271 - acc: 0.707 - ETA: 7:07 - loss: 2.3515 - acc: 0.706 - ETA: 7:03 - loss: 2.3375 - acc: 0.709 - ETA: 6:59 - loss: 2.3386 - acc: 0.711 - ETA: 6:56 - loss: 2.3641 - acc: 0.712 - ETA: 6:53 - loss: 2.3915 - acc: 0.712 - ETA: 6:49 - loss: 2.4009 - acc: 0.713 - ETA: 6:46 - loss: 2.4037 - acc: 0.714 - ETA: 6:41 - loss: 2.4348 - acc: 0.715 - ETA: 6:36 - loss: 2.4307 - acc: 0.715 - ETA: 6:32 - loss: 2.4205 - acc: 0.715 - ETA: 6:27 - loss: 2.4336 - acc: 0.715 - ETA: 6:24 - loss: 2.4404 - acc: 0.717 - ETA: 6:19 - loss: 2.4357 - acc: 0.715 - ETA: 6:14 - loss: 2.4368 - acc: 0.715 - ETA: 6:09 - loss: 2.4591 - acc: 0.715 - ETA: 6:05 - loss: 2.4567 - acc: 0.716 - ETA: 6:00 - loss: 2.4699 - acc: 0.716 - ETA: 5:56 - loss: 2.4699 - acc: 0.716 - ETA: 5:52 - loss: 2.4824 - acc: 0.715 - ETA: 5:50 - loss: 2.4872 - acc: 0.715 - ETA: 5:45 - loss: 2.4870 - acc: 0.716 - ETA: 5:40 - loss: 2.4868 - acc: 0.717 - ETA: 5:34 - loss: 2.5048 - acc: 0.716 - ETA: 5:28 - loss: 2.5088 - acc: 0.716 - ETA: 5:23 - loss: 2.5126 - acc: 0.717 - ETA: 5:18 - loss: 2.5054 - acc: 0.718 - ETA: 5:13 - loss: 2.5132 - acc: 0.718 - ETA: 5:09 - loss: 2.5143 - acc: 0.718 - ETA: 5:05 - loss: 2.5115 - acc: 0.718 - ETA: 5:02 - loss: 2.5088 - acc: 0.719 - ETA: 4:59 - loss: 2.5100 - acc: 0.720 - ETA: 4:55 - loss: 2.5112 - acc: 0.721 - ETA: 4:51 - loss: 2.5066 - acc: 0.721 - ETA: 4:48 - loss: 2.5097 - acc: 0.721 - ETA: 4:45 - loss: 2.5165 - acc: 0.720 - ETA: 4:41 - loss: 2.5136 - acc: 0.721 - ETA: 4:38 - loss: 2.5089 - acc: 0.721 - ETA: 4:34 - loss: 2.5029 - acc: 0.722 - ETA: 4:30 - loss: 2.5074 - acc: 0.721 - ETA: 4:27 - loss: 2.4997 - acc: 0.722 - ETA: 4:22 - loss: 2.5110 - acc: 0.722 - ETA: 4:18 - loss: 2.5115 - acc: 0.722 - ETA: 4:15 - loss: 2.5082 - acc: 0.722 - ETA: 4:11 - loss: 2.5006 - acc: 0.721 - ETA: 4:07 - loss: 2.4988 - acc: 0.721 - ETA: 4:03 - loss: 2.5012 - acc: 0.720 - ETA: 3:59 - loss: 2.4941 - acc: 0.721 - ETA: 3:55 - loss: 2.5008 - acc: 0.722 - ETA: 3:51 - loss: 2.4916 - acc: 0.722 - ETA: 3:47 - loss: 2.4930 - acc: 0.722 - ETA: 3:44 - loss: 2.5034 - acc: 0.722 - ETA: 3:40 - loss: 2.5017 - acc: 0.723 - ETA: 3:37 - loss: 2.5103 - acc: 0.723 - ETA: 3:33 - loss: 2.5116 - acc: 0.722 - ETA: 3:29 - loss: 2.5125 - acc: 0.723 - ETA: 3:25 - loss: 2.5164 - acc: 0.723 - ETA: 3:21 - loss: 2.5174 - acc: 0.723 - ETA: 3:17 - loss: 2.5169 - acc: 0.723 - ETA: 3:14 - loss: 2.5189 - acc: 0.724 - ETA: 3:10 - loss: 2.5211 - acc: 0.724 - ETA: 3:06 - loss: 2.5165 - acc: 0.725 - ETA: 3:03 - loss: 2.5146 - acc: 0.725 - ETA: 2:59 - loss: 2.5248 - acc: 0.725 - ETA: 2:55 - loss: 2.5217 - acc: 0.725 - ETA: 2:51 - loss: 2.5353 - acc: 0.725 - ETA: 2:47 - loss: 2.5435 - acc: 0.724 - ETA: 2:43 - loss: 2.5503 - acc: 0.723 - ETA: 2:40 - loss: 2.5470 - acc: 0.723 - ETA: 2:36 - loss: 2.5438 - acc: 0.723 - ETA: 2:32 - loss: 2.5405 - acc: 0.724 - ETA: 2:28 - loss: 2.5410 - acc: 0.723 - ETA: 2:24 - loss: 2.5427 - acc: 0.724 - ETA: 2:20 - loss: 2.5360 - acc: 0.724 - ETA: 2:16 - loss: 2.5436 - acc: 0.724 - ETA: 2:12 - loss: 2.5428 - acc: 0.724 - ETA: 2:08 - loss: 2.5433 - acc: 0.724 - ETA: 2:04 - loss: 2.5461 - acc: 0.724 - ETA: 2:00 - loss: 2.5452 - acc: 0.724 - ETA: 1:56 - loss: 2.5422 - acc: 0.725 - ETA: 1:52 - loss: 2.5425 - acc: 0.725 - ETA: 1:48 - loss: 2.5417 - acc: 0.725 - ETA: 1:45 - loss: 2.5376 - acc: 0.725 - ETA: 1:41 - loss: 2.5392 - acc: 0.725 - ETA: 1:37 - loss: 2.5354 - acc: 0.725 - ETA: 1:32 - loss: 2.5338 - acc: 0.726 - ETA: 1:28 - loss: 2.5322 - acc: 0.726 - ETA: 1:25 - loss: 2.5368 - acc: 0.725 - ETA: 1:21 - loss: 2.5350 - acc: 0.726 - ETA: 1:17 - loss: 2.5395 - acc: 0.725 - ETA: 1:13 - loss: 2.5369 - acc: 0.725 - ETA: 1:09 - loss: 2.5373 - acc: 0.725 - ETA: 1:05 - loss: 2.5277 - acc: 0.726 - ETA: 1:01 - loss: 2.5222 - acc: 0.726 - ETA: 57s - loss: 2.5177 - acc: 0.727 - ETA: 53s - loss: 2.5201 - acc: 0.72 - ETA: 49s - loss: 2.5176 - acc: 0.72 - ETA: 45s - loss: 2.5249 - acc: 0.72 - ETA: 41s - loss: 2.5244 - acc: 0.72 - ETA: 37s - loss: 2.5250 - acc: 0.72 - ETA: 34s - loss: 2.5321 - acc: 0.72 - ETA: 30s - loss: 2.5297 - acc: 0.72 - ETA: 26s - loss: 2.5282 - acc: 0.72 - ETA: 22s - loss: 2.5296 - acc: 0.72 - ETA: 18s - loss: 2.5271 - acc: 0.72 - ETA: 14s - loss: 2.5313 - acc: 0.72 - ETA: 10s - loss: 2.5325 - acc: 0.72 - ETA: 6s - loss: 2.5302 - acc: 0.7254 - ETA: 2s - loss: 2.5279 - acc: 0.725 - 552s 31ms/step - loss: 2.5262 - acc: 0.7255\n",
      "Epoch 2/5\n",
      "18000/18000 [==============================] - ETA: 7:12 - loss: 2.3514 - acc: 0.718 - ETA: 8:17 - loss: 2.3491 - acc: 0.726 - ETA: 8:45 - loss: 2.2574 - acc: 0.752 - ETA: 8:23 - loss: 2.0869 - acc: 0.775 - ETA: 7:48 - loss: 2.2119 - acc: 0.768 - ETA: 7:19 - loss: 2.2981 - acc: 0.752 - ETA: 6:53 - loss: 2.3903 - acc: 0.747 - ETA: 6:40 - loss: 2.4464 - acc: 0.741 - ETA: 6:30 - loss: 2.4083 - acc: 0.734 - ETA: 6:46 - loss: 2.3521 - acc: 0.737 - ETA: 6:43 - loss: 2.4435 - acc: 0.734 - ETA: 6:51 - loss: 2.3929 - acc: 0.738 - ETA: 6:49 - loss: 2.4272 - acc: 0.736 - ETA: 6:59 - loss: 2.4836 - acc: 0.734 - ETA: 6:59 - loss: 2.4556 - acc: 0.732 - ETA: 7:00 - loss: 2.4553 - acc: 0.731 - ETA: 7:04 - loss: 2.4850 - acc: 0.729 - ETA: 7:07 - loss: 2.4699 - acc: 0.733 - ETA: 7:03 - loss: 2.4767 - acc: 0.733 - ETA: 7:03 - loss: 2.4697 - acc: 0.731 - ETA: 7:00 - loss: 2.4936 - acc: 0.729 - ETA: 6:55 - loss: 2.4812 - acc: 0.731 - ETA: 6:53 - loss: 2.4976 - acc: 0.733 - ETA: 6:53 - loss: 2.4857 - acc: 0.736 - ETA: 6:48 - loss: 2.5102 - acc: 0.734 - ETA: 6:46 - loss: 2.5086 - acc: 0.735 - ETA: 6:42 - loss: 2.5212 - acc: 0.735 - ETA: 6:36 - loss: 2.5199 - acc: 0.733 - ETA: 6:35 - loss: 2.5181 - acc: 0.735 - ETA: 6:30 - loss: 2.5248 - acc: 0.736 - ETA: 6:26 - loss: 2.5392 - acc: 0.735 - ETA: 6:22 - loss: 2.5254 - acc: 0.738 - ETA: 6:19 - loss: 2.5278 - acc: 0.738 - ETA: 6:17 - loss: 2.5414 - acc: 0.739 - ETA: 6:13 - loss: 2.5575 - acc: 0.737 - ETA: 6:09 - loss: 2.5623 - acc: 0.735 - ETA: 6:04 - loss: 2.5461 - acc: 0.734 - ETA: 6:04 - loss: 2.5477 - acc: 0.734 - ETA: 6:01 - loss: 2.5426 - acc: 0.735 - ETA: 5:59 - loss: 2.5415 - acc: 0.734 - ETA: 5:56 - loss: 2.5305 - acc: 0.735 - ETA: 5:54 - loss: 2.5173 - acc: 0.733 - ETA: 5:52 - loss: 2.5136 - acc: 0.733 - ETA: 5:50 - loss: 2.5158 - acc: 0.734 - ETA: 5:46 - loss: 2.5148 - acc: 0.734 - ETA: 5:44 - loss: 2.5002 - acc: 0.736 - ETA: 5:40 - loss: 2.5104 - acc: 0.736 - ETA: 5:36 - loss: 2.5016 - acc: 0.735 - ETA: 5:33 - loss: 2.4977 - acc: 0.735 - ETA: 5:30 - loss: 2.5122 - acc: 0.735 - ETA: 5:26 - loss: 2.5141 - acc: 0.734 - ETA: 5:24 - loss: 2.5111 - acc: 0.734 - ETA: 5:20 - loss: 2.5084 - acc: 0.735 - ETA: 5:17 - loss: 2.5149 - acc: 0.735 - ETA: 5:14 - loss: 2.5211 - acc: 0.733 - ETA: 5:10 - loss: 2.5272 - acc: 0.733 - ETA: 5:05 - loss: 2.5160 - acc: 0.733 - ETA: 5:02 - loss: 2.5075 - acc: 0.733 - ETA: 4:59 - loss: 2.4967 - acc: 0.734 - ETA: 4:55 - loss: 2.4885 - acc: 0.735 - ETA: 4:52 - loss: 2.4913 - acc: 0.735 - ETA: 4:49 - loss: 2.4983 - acc: 0.734 - ETA: 4:46 - loss: 2.4975 - acc: 0.734 - ETA: 4:43 - loss: 2.4917 - acc: 0.735 - ETA: 5:07 - loss: 2.4826 - acc: 0.735 - ETA: 5:03 - loss: 2.4713 - acc: 0.735 - ETA: 4:59 - loss: 2.4741 - acc: 0.736 - ETA: 4:54 - loss: 2.4691 - acc: 0.737 - ETA: 4:51 - loss: 2.4793 - acc: 0.736 - ETA: 4:47 - loss: 2.4803 - acc: 0.737 - ETA: 4:42 - loss: 2.4810 - acc: 0.736 - ETA: 4:37 - loss: 2.4770 - acc: 0.736 - ETA: 4:33 - loss: 2.4799 - acc: 0.736 - ETA: 4:29 - loss: 2.4826 - acc: 0.736 - ETA: 4:24 - loss: 2.4907 - acc: 0.735 - ETA: 4:20 - loss: 2.4902 - acc: 0.735 - ETA: 4:16 - loss: 2.4865 - acc: 0.734 - ETA: 4:11 - loss: 2.4974 - acc: 0.734 - ETA: 4:07 - loss: 2.4983 - acc: 0.734 - ETA: 4:03 - loss: 2.4977 - acc: 0.734 - ETA: 3:58 - loss: 2.4942 - acc: 0.735 - ETA: 3:54 - loss: 2.4981 - acc: 0.734 - ETA: 3:50 - loss: 2.4991 - acc: 0.734 - ETA: 3:45 - loss: 2.5108 - acc: 0.733 - ETA: 3:41 - loss: 2.5146 - acc: 0.733 - ETA: 3:37 - loss: 2.5137 - acc: 0.733 - ETA: 3:33 - loss: 2.5246 - acc: 0.733 - ETA: 3:29 - loss: 2.5182 - acc: 0.734 - ETA: 3:25 - loss: 2.5147 - acc: 0.734 - ETA: 3:21 - loss: 2.5142 - acc: 0.734 - ETA: 3:17 - loss: 2.5164 - acc: 0.735 - ETA: 3:12 - loss: 2.5198 - acc: 0.734 - ETA: 3:09 - loss: 2.5165 - acc: 0.734 - ETA: 3:05 - loss: 2.5092 - acc: 0.734 - ETA: 3:01 - loss: 2.5128 - acc: 0.734 - ETA: 2:57 - loss: 2.5096 - acc: 0.734 - ETA: 2:53 - loss: 2.5103 - acc: 0.733 - ETA: 2:49 - loss: 2.5072 - acc: 0.734 - ETA: 2:45 - loss: 2.5068 - acc: 0.733 - ETA: 2:41 - loss: 2.5051 - acc: 0.733 - ETA: 2:37 - loss: 2.5147 - acc: 0.732 - ETA: 2:33 - loss: 2.5205 - acc: 0.733 - ETA: 2:28 - loss: 2.5260 - acc: 0.732 - ETA: 2:25 - loss: 2.5230 - acc: 0.732 - ETA: 2:20 - loss: 2.5212 - acc: 0.732 - ETA: 2:17 - loss: 2.5279 - acc: 0.732 - ETA: 2:12 - loss: 2.5357 - acc: 0.731 - ETA: 2:08 - loss: 2.5409 - acc: 0.731 - ETA: 2:04 - loss: 2.5426 - acc: 0.730 - ETA: 2:00 - loss: 2.5476 - acc: 0.730 - ETA: 1:56 - loss: 2.5400 - acc: 0.730 - ETA: 1:52 - loss: 2.5439 - acc: 0.730 - ETA: 1:48 - loss: 2.5388 - acc: 0.731 - ETA: 1:44 - loss: 2.5392 - acc: 0.731 - ETA: 1:40 - loss: 2.5408 - acc: 0.731 - ETA: 1:36 - loss: 2.5348 - acc: 0.731 - ETA: 1:32 - loss: 2.5384 - acc: 0.731 - ETA: 1:28 - loss: 2.5389 - acc: 0.730 - ETA: 1:24 - loss: 2.5394 - acc: 0.730 - ETA: 1:20 - loss: 2.5399 - acc: 0.730 - ETA: 1:17 - loss: 2.5382 - acc: 0.730 - ETA: 1:13 - loss: 2.5417 - acc: 0.730 - ETA: 1:09 - loss: 2.5402 - acc: 0.729 - ETA: 1:05 - loss: 2.5417 - acc: 0.729 - ETA: 1:01 - loss: 2.5449 - acc: 0.729 - ETA: 57s - loss: 2.5433 - acc: 0.729 - ETA: 53s - loss: 2.5427 - acc: 0.73 - ETA: 49s - loss: 2.5451 - acc: 0.73 - ETA: 45s - loss: 2.5435 - acc: 0.73 - ETA: 41s - loss: 2.5449 - acc: 0.73 - ETA: 37s - loss: 2.5501 - acc: 0.72 - ETA: 33s - loss: 2.5523 - acc: 0.72 - ETA: 29s - loss: 2.5507 - acc: 0.72 - ETA: 25s - loss: 2.5491 - acc: 0.72 - ETA: 21s - loss: 2.5466 - acc: 0.72 - ETA: 18s - loss: 2.5461 - acc: 0.72 - ETA: 14s - loss: 2.5500 - acc: 0.72 - ETA: 10s - loss: 2.5513 - acc: 0.72 - ETA: 6s - loss: 2.5453 - acc: 0.7300 - ETA: 2s - loss: 2.5419 - acc: 0.730 - 546s 30ms/step - loss: 2.5462 - acc: 0.7305\n",
      "Epoch 3/5\n",
      "18000/18000 [==============================] - ETA: 9:05 - loss: 2.5907 - acc: 0.703 - ETA: 8:29 - loss: 2.7775 - acc: 0.710 - ETA: 9:05 - loss: 2.8433 - acc: 0.724 - ETA: 9:21 - loss: 2.9076 - acc: 0.726 - ETA: 8:55 - loss: 2.8444 - acc: 0.735 - ETA: 8:49 - loss: 2.7806 - acc: 0.742 - ETA: 8:55 - loss: 2.6796 - acc: 0.740 - ETA: 8:42 - loss: 2.6534 - acc: 0.735 - ETA: 8:30 - loss: 2.6188 - acc: 0.741 - ETA: 8:19 - loss: 2.6535 - acc: 0.741 - ETA: 8:08 - loss: 2.6249 - acc: 0.741 - ETA: 8:02 - loss: 2.6225 - acc: 0.738 - ETA: 7:54 - loss: 2.6780 - acc: 0.736 - ETA: 7:48 - loss: 2.6625 - acc: 0.734 - ETA: 7:40 - loss: 2.6657 - acc: 0.734 - ETA: 7:33 - loss: 2.6852 - acc: 0.734 - ETA: 7:34 - loss: 2.6874 - acc: 0.733 - ETA: 7:39 - loss: 2.6544 - acc: 0.735 - ETA: 7:37 - loss: 2.6376 - acc: 0.733 - ETA: 7:31 - loss: 2.6224 - acc: 0.735 - ETA: 7:27 - loss: 2.6095 - acc: 0.736 - ETA: 7:20 - loss: 2.5693 - acc: 0.737 - ETA: 7:20 - loss: 2.5650 - acc: 0.736 - ETA: 7:14 - loss: 2.5402 - acc: 0.736 - ETA: 7:07 - loss: 2.5467 - acc: 0.735 - ETA: 7:07 - loss: 2.5579 - acc: 0.736 - ETA: 7:00 - loss: 2.5454 - acc: 0.737 - ETA: 6:55 - loss: 2.5468 - acc: 0.736 - ETA: 6:52 - loss: 2.5439 - acc: 0.736 - ETA: 6:47 - loss: 2.5540 - acc: 0.736 - ETA: 6:41 - loss: 2.5513 - acc: 0.735 - ETA: 6:39 - loss: 2.5681 - acc: 0.736 - ETA: 6:34 - loss: 2.5844 - acc: 0.736 - ETA: 6:32 - loss: 2.5882 - acc: 0.735 - ETA: 6:30 - loss: 2.6025 - acc: 0.735 - ETA: 6:27 - loss: 2.6026 - acc: 0.735 - ETA: 6:24 - loss: 2.6024 - acc: 0.734 - ETA: 6:19 - loss: 2.5985 - acc: 0.732 - ETA: 6:16 - loss: 2.5888 - acc: 0.732 - ETA: 6:12 - loss: 2.6076 - acc: 0.730 - ETA: 6:09 - loss: 2.5919 - acc: 0.733 - ETA: 6:05 - loss: 2.5922 - acc: 0.733 - ETA: 6:01 - loss: 2.5921 - acc: 0.733 - ETA: 5:56 - loss: 2.5834 - acc: 0.734 - ETA: 5:52 - loss: 2.5805 - acc: 0.734 - ETA: 5:50 - loss: 2.5834 - acc: 0.734 - ETA: 5:47 - loss: 2.5835 - acc: 0.733 - ETA: 5:44 - loss: 2.5810 - acc: 0.732 - ETA: 5:39 - loss: 2.5965 - acc: 0.731 - ETA: 5:36 - loss: 2.5957 - acc: 0.732 - ETA: 5:34 - loss: 2.5933 - acc: 0.733 - ETA: 5:30 - loss: 2.6004 - acc: 0.732 - ETA: 5:28 - loss: 2.5957 - acc: 0.732 - ETA: 5:23 - loss: 2.5978 - acc: 0.731 - ETA: 5:20 - loss: 2.6024 - acc: 0.731 - ETA: 5:16 - loss: 2.6018 - acc: 0.730 - ETA: 5:11 - loss: 2.5973 - acc: 0.730 - ETA: 5:07 - loss: 2.5884 - acc: 0.731 - ETA: 5:04 - loss: 2.5865 - acc: 0.731 - ETA: 5:01 - loss: 2.5803 - acc: 0.731 - ETA: 4:57 - loss: 2.5725 - acc: 0.731 - ETA: 4:54 - loss: 2.5647 - acc: 0.731 - ETA: 4:49 - loss: 2.5731 - acc: 0.730 - ETA: 4:47 - loss: 2.5734 - acc: 0.730 - ETA: 4:42 - loss: 2.5796 - acc: 0.728 - ETA: 4:39 - loss: 2.5798 - acc: 0.729 - ETA: 4:34 - loss: 2.5705 - acc: 0.729 - ETA: 4:31 - loss: 2.5687 - acc: 0.728 - ETA: 4:27 - loss: 2.5616 - acc: 0.727 - ETA: 4:24 - loss: 2.5621 - acc: 0.728 - ETA: 4:20 - loss: 2.5625 - acc: 0.728 - ETA: 4:16 - loss: 2.5665 - acc: 0.727 - ETA: 4:12 - loss: 2.5705 - acc: 0.727 - ETA: 4:08 - loss: 2.5709 - acc: 0.727 - ETA: 4:05 - loss: 2.5660 - acc: 0.727 - ETA: 4:01 - loss: 2.5714 - acc: 0.727 - ETA: 3:57 - loss: 2.5748 - acc: 0.726 - ETA: 3:52 - loss: 2.5737 - acc: 0.726 - ETA: 3:48 - loss: 2.5708 - acc: 0.727 - ETA: 3:45 - loss: 2.5580 - acc: 0.727 - ETA: 3:41 - loss: 2.5669 - acc: 0.728 - ETA: 3:37 - loss: 2.5722 - acc: 0.728 - ETA: 3:33 - loss: 2.5695 - acc: 0.728 - ETA: 3:30 - loss: 2.5624 - acc: 0.728 - ETA: 3:26 - loss: 2.5524 - acc: 0.729 - ETA: 3:22 - loss: 2.5572 - acc: 0.729 - ETA: 3:19 - loss: 2.5619 - acc: 0.729 - ETA: 3:15 - loss: 2.5721 - acc: 0.728 - ETA: 3:11 - loss: 2.5822 - acc: 0.727 - ETA: 3:07 - loss: 2.5724 - acc: 0.727 - ETA: 3:04 - loss: 2.5753 - acc: 0.728 - ETA: 3:00 - loss: 2.5809 - acc: 0.727 - ETA: 2:57 - loss: 2.5809 - acc: 0.728 - ETA: 2:53 - loss: 2.5782 - acc: 0.728 - ETA: 2:50 - loss: 2.5769 - acc: 0.728 - ETA: 2:46 - loss: 2.5743 - acc: 0.729 - ETA: 2:42 - loss: 2.5692 - acc: 0.729 - ETA: 2:39 - loss: 2.5680 - acc: 0.729 - ETA: 2:35 - loss: 2.5682 - acc: 0.729 - ETA: 2:31 - loss: 2.5722 - acc: 0.729 - ETA: 2:28 - loss: 2.5735 - acc: 0.729 - ETA: 2:24 - loss: 2.5686 - acc: 0.730 - ETA: 2:21 - loss: 2.5688 - acc: 0.731 - ETA: 2:17 - loss: 2.5677 - acc: 0.731 - ETA: 2:13 - loss: 2.5690 - acc: 0.731 - ETA: 2:09 - loss: 2.5668 - acc: 0.731 - ETA: 2:06 - loss: 2.5729 - acc: 0.730 - ETA: 2:02 - loss: 2.5787 - acc: 0.730 - ETA: 1:59 - loss: 2.5766 - acc: 0.730 - ETA: 1:55 - loss: 2.5766 - acc: 0.731 - ETA: 1:51 - loss: 2.5813 - acc: 0.730 - ETA: 1:47 - loss: 2.5756 - acc: 0.730 - ETA: 1:43 - loss: 2.5723 - acc: 0.731 - ETA: 1:40 - loss: 2.5668 - acc: 0.731 - ETA: 1:36 - loss: 2.5656 - acc: 0.731 - ETA: 1:32 - loss: 2.5679 - acc: 0.731 - ETA: 1:28 - loss: 2.5648 - acc: 0.731 - ETA: 1:24 - loss: 2.5639 - acc: 0.732 - ETA: 1:21 - loss: 2.5630 - acc: 0.732 - ETA: 1:17 - loss: 2.5611 - acc: 0.732 - ETA: 1:13 - loss: 2.5676 - acc: 0.731 - ETA: 1:09 - loss: 2.5719 - acc: 0.731 - ETA: 1:06 - loss: 2.5689 - acc: 0.731 - ETA: 1:02 - loss: 2.5679 - acc: 0.731 - ETA: 58s - loss: 2.5671 - acc: 0.731 - ETA: 54s - loss: 2.5632 - acc: 0.73 - ETA: 51s - loss: 2.5644 - acc: 0.73 - ETA: 47s - loss: 2.5626 - acc: 0.73 - ETA: 43s - loss: 2.5627 - acc: 0.73 - ETA: 39s - loss: 2.5629 - acc: 0.73 - ETA: 36s - loss: 2.5640 - acc: 0.73 - ETA: 32s - loss: 2.5547 - acc: 0.73 - ETA: 28s - loss: 2.5577 - acc: 0.73 - ETA: 24s - loss: 2.5569 - acc: 0.73 - ETA: 21s - loss: 2.5543 - acc: 0.73 - ETA: 17s - loss: 2.5526 - acc: 0.73 - ETA: 13s - loss: 2.5528 - acc: 0.73 - ETA: 9s - loss: 2.5494 - acc: 0.7313 - ETA: 6s - loss: 2.5533 - acc: 0.730 - ETA: 2s - loss: 2.5598 - acc: 0.730 - 528s 29ms/step - loss: 2.5604 - acc: 0.7306\n",
      "Epoch 4/5\n",
      "18000/18000 [==============================] - ETA: 9:06 - loss: 2.3301 - acc: 0.765 - ETA: 9:25 - loss: 2.3920 - acc: 0.742 - ETA: 8:46 - loss: 2.3276 - acc: 0.747 - ETA: 8:24 - loss: 2.5187 - acc: 0.742 - ETA: 8:34 - loss: 2.5068 - acc: 0.729 - ETA: 8:26 - loss: 2.5823 - acc: 0.717 - ETA: 8:33 - loss: 2.5280 - acc: 0.724 - ETA: 8:35 - loss: 2.5505 - acc: 0.730 - ETA: 8:23 - loss: 2.6243 - acc: 0.729 - ETA: 8:01 - loss: 2.5563 - acc: 0.732 - ETA: 7:41 - loss: 2.5243 - acc: 0.739 - ETA: 7:21 - loss: 2.5187 - acc: 0.738 - ETA: 7:11 - loss: 2.5434 - acc: 0.737 - ETA: 7:06 - loss: 2.5282 - acc: 0.737 - ETA: 7:10 - loss: 2.5068 - acc: 0.737 - ETA: 7:09 - loss: 2.4962 - acc: 0.737 - ETA: 7:04 - loss: 2.4564 - acc: 0.740 - ETA: 7:04 - loss: 2.4491 - acc: 0.740 - ETA: 7:07 - loss: 2.4297 - acc: 0.741 - ETA: 7:00 - loss: 2.4311 - acc: 0.742 - ETA: 7:02 - loss: 2.4383 - acc: 0.741 - ETA: 6:59 - loss: 2.4446 - acc: 0.742 - ETA: 6:59 - loss: 2.4560 - acc: 0.741 - ETA: 6:58 - loss: 2.4931 - acc: 0.740 - ETA: 6:59 - loss: 2.4965 - acc: 0.740 - ETA: 6:48 - loss: 2.5046 - acc: 0.738 - ETA: 6:39 - loss: 2.4979 - acc: 0.738 - ETA: 6:36 - loss: 2.5145 - acc: 0.736 - ETA: 6:34 - loss: 2.5081 - acc: 0.734 - ETA: 6:31 - loss: 2.5104 - acc: 0.733 - ETA: 6:30 - loss: 2.5250 - acc: 0.732 - ETA: 6:26 - loss: 2.5349 - acc: 0.732 - ETA: 6:20 - loss: 2.5401 - acc: 0.730 - ETA: 6:19 - loss: 2.5412 - acc: 0.729 - ETA: 6:15 - loss: 2.5530 - acc: 0.729 - ETA: 6:11 - loss: 2.5643 - acc: 0.730 - ETA: 6:09 - loss: 2.5717 - acc: 0.729 - ETA: 6:04 - loss: 2.5886 - acc: 0.728 - ETA: 6:00 - loss: 2.5854 - acc: 0.728 - ETA: 5:58 - loss: 2.5791 - acc: 0.729 - ETA: 5:56 - loss: 2.6068 - acc: 0.728 - ETA: 5:52 - loss: 2.5973 - acc: 0.730 - ETA: 5:48 - loss: 2.5969 - acc: 0.731 - ETA: 5:44 - loss: 2.5852 - acc: 0.732 - ETA: 5:41 - loss: 2.5795 - acc: 0.732 - ETA: 5:38 - loss: 2.5933 - acc: 0.731 - ETA: 5:35 - loss: 2.6064 - acc: 0.731 - ETA: 5:31 - loss: 2.6059 - acc: 0.731 - ETA: 5:28 - loss: 2.6055 - acc: 0.731 - ETA: 5:24 - loss: 2.6151 - acc: 0.730 - ETA: 5:19 - loss: 2.6193 - acc: 0.730 - ETA: 5:15 - loss: 2.6138 - acc: 0.731 - ETA: 5:11 - loss: 2.6323 - acc: 0.729 - ETA: 5:07 - loss: 2.6314 - acc: 0.729 - ETA: 5:05 - loss: 2.6327 - acc: 0.729 - ETA: 5:01 - loss: 2.6316 - acc: 0.729 - ETA: 4:57 - loss: 2.6351 - acc: 0.727 - ETA: 4:53 - loss: 2.6319 - acc: 0.728 - ETA: 4:50 - loss: 2.6268 - acc: 0.728 - ETA: 4:45 - loss: 2.6302 - acc: 0.728 - ETA: 4:41 - loss: 2.6357 - acc: 0.728 - ETA: 4:38 - loss: 2.6288 - acc: 0.729 - ETA: 4:35 - loss: 2.6258 - acc: 0.729 - ETA: 4:32 - loss: 2.6271 - acc: 0.729 - ETA: 4:28 - loss: 2.6130 - acc: 0.729 - ETA: 4:24 - loss: 2.6086 - acc: 0.729 - ETA: 4:20 - loss: 2.6138 - acc: 0.728 - ETA: 4:17 - loss: 2.6097 - acc: 0.729 - ETA: 4:14 - loss: 2.6167 - acc: 0.729 - ETA: 4:11 - loss: 2.6090 - acc: 0.730 - ETA: 4:07 - loss: 2.6104 - acc: 0.729 - ETA: 4:04 - loss: 2.6048 - acc: 0.729 - ETA: 4:00 - loss: 2.5993 - acc: 0.729 - ETA: 3:57 - loss: 2.5940 - acc: 0.730 - ETA: 3:54 - loss: 2.5988 - acc: 0.729 - ETA: 3:51 - loss: 2.5854 - acc: 0.731 - ETA: 3:48 - loss: 2.5738 - acc: 0.731 - ETA: 3:44 - loss: 2.5739 - acc: 0.731 - ETA: 3:41 - loss: 2.5645 - acc: 0.732 - ETA: 3:37 - loss: 2.5663 - acc: 0.731 - ETA: 3:34 - loss: 2.5603 - acc: 0.732 - ETA: 3:30 - loss: 2.5760 - acc: 0.731 - ETA: 3:28 - loss: 2.5761 - acc: 0.730 - ETA: 3:24 - loss: 2.5777 - acc: 0.730 - ETA: 3:21 - loss: 2.5823 - acc: 0.730 - ETA: 3:18 - loss: 2.5779 - acc: 0.730 - ETA: 3:14 - loss: 2.5795 - acc: 0.730 - ETA: 3:11 - loss: 2.5753 - acc: 0.729 - ETA: 3:07 - loss: 2.5712 - acc: 0.729 - ETA: 3:03 - loss: 2.5740 - acc: 0.729 - ETA: 2:59 - loss: 2.5685 - acc: 0.730 - ETA: 2:55 - loss: 2.5673 - acc: 0.730 - ETA: 2:51 - loss: 2.5539 - acc: 0.731 - ETA: 2:48 - loss: 2.5501 - acc: 0.731 - ETA: 2:44 - loss: 2.5558 - acc: 0.731 - ETA: 2:41 - loss: 2.5561 - acc: 0.731 - ETA: 2:37 - loss: 2.5577 - acc: 0.732 - ETA: 2:33 - loss: 2.5528 - acc: 0.732 - ETA: 2:30 - loss: 2.5468 - acc: 0.732 - ETA: 2:26 - loss: 2.5547 - acc: 0.731 - ETA: 2:22 - loss: 2.5538 - acc: 0.732 - ETA: 2:19 - loss: 2.5540 - acc: 0.732 - ETA: 2:15 - loss: 2.5542 - acc: 0.732 - ETA: 2:12 - loss: 2.5569 - acc: 0.732 - ETA: 2:08 - loss: 2.5559 - acc: 0.732 - ETA: 2:04 - loss: 2.5561 - acc: 0.732 - ETA: 2:01 - loss: 2.5588 - acc: 0.731 - ETA: 1:57 - loss: 2.5578 - acc: 0.731 - ETA: 1:54 - loss: 2.5569 - acc: 0.731 - ETA: 1:50 - loss: 2.5583 - acc: 0.731 - ETA: 1:46 - loss: 2.5608 - acc: 0.731 - ETA: 1:42 - loss: 2.5576 - acc: 0.731 - ETA: 1:39 - loss: 2.5545 - acc: 0.731 - ETA: 1:35 - loss: 2.5547 - acc: 0.731 - ETA: 1:32 - loss: 2.5505 - acc: 0.731 - ETA: 1:28 - loss: 2.5464 - acc: 0.731 - ETA: 1:25 - loss: 2.5435 - acc: 0.731 - ETA: 1:21 - loss: 2.5438 - acc: 0.731 - ETA: 1:17 - loss: 2.5547 - acc: 0.731 - ETA: 1:14 - loss: 2.5549 - acc: 0.731 - ETA: 1:10 - loss: 2.5552 - acc: 0.731 - ETA: 1:07 - loss: 2.5564 - acc: 0.730 - ETA: 1:03 - loss: 2.5536 - acc: 0.730 - ETA: 1:00 - loss: 2.5518 - acc: 0.730 - ETA: 56s - loss: 2.5499 - acc: 0.731 - ETA: 52s - loss: 2.5432 - acc: 0.73 - ETA: 49s - loss: 2.5454 - acc: 0.73 - ETA: 45s - loss: 2.5467 - acc: 0.73 - ETA: 42s - loss: 2.5460 - acc: 0.73 - ETA: 38s - loss: 2.5482 - acc: 0.73 - ETA: 34s - loss: 2.5437 - acc: 0.73 - ETA: 31s - loss: 2.5421 - acc: 0.73 - ETA: 27s - loss: 2.5396 - acc: 0.73 - ETA: 23s - loss: 2.5437 - acc: 0.73 - ETA: 20s - loss: 2.5430 - acc: 0.73 - ETA: 16s - loss: 2.5452 - acc: 0.73 - ETA: 13s - loss: 2.5473 - acc: 0.73 - ETA: 9s - loss: 2.5503 - acc: 0.7309 - ETA: 5s - loss: 2.5496 - acc: 0.730 - ETA: 2s - loss: 2.5570 - acc: 0.730 - 509s 28ms/step - loss: 2.5550 - acc: 0.7306\n",
      "Epoch 5/5\n",
      "18000/18000 [==============================] - ETA: 7:39 - loss: 2.4506 - acc: 0.781 - ETA: 7:41 - loss: 3.0776 - acc: 0.734 - ETA: 7:39 - loss: 2.6562 - acc: 0.747 - ETA: 8:08 - loss: 2.7006 - acc: 0.744 - ETA: 8:01 - loss: 2.6026 - acc: 0.750 - ETA: 7:50 - loss: 2.7466 - acc: 0.737 - ETA: 7:59 - loss: 2.7043 - acc: 0.738 - ETA: 7:51 - loss: 2.7041 - acc: 0.745 - ETA: 7:47 - loss: 2.7316 - acc: 0.747 - ETA: 7:41 - loss: 2.7294 - acc: 0.742 - ETA: 7:35 - loss: 2.6814 - acc: 0.738 - ETA: 7:45 - loss: 2.6416 - acc: 0.735 - ETA: 7:45 - loss: 2.6373 - acc: 0.736 - ETA: 7:46 - loss: 2.5436 - acc: 0.742 - ETA: 7:43 - loss: 2.5380 - acc: 0.740 - ETA: 7:37 - loss: 2.5247 - acc: 0.737 - ETA: 7:37 - loss: 2.5356 - acc: 0.737 - ETA: 7:28 - loss: 2.5176 - acc: 0.740 - ETA: 7:13 - loss: 2.5077 - acc: 0.740 - ETA: 7:02 - loss: 2.5051 - acc: 0.734 - ETA: 6:54 - loss: 2.4967 - acc: 0.734 - ETA: 6:47 - loss: 2.5067 - acc: 0.736 - ETA: 6:44 - loss: 2.5100 - acc: 0.736 - ETA: 6:40 - loss: 2.5495 - acc: 0.734 - ETA: 6:41 - loss: 2.5254 - acc: 0.737 - ETA: 6:35 - loss: 2.5276 - acc: 0.737 - ETA: 6:35 - loss: 2.5393 - acc: 0.737 - ETA: 6:30 - loss: 2.5409 - acc: 0.735 - ETA: 6:26 - loss: 2.5161 - acc: 0.738 - ETA: 6:23 - loss: 2.5100 - acc: 0.739 - ETA: 6:19 - loss: 2.5245 - acc: 0.737 - ETA: 6:17 - loss: 2.5303 - acc: 0.736 - ETA: 6:14 - loss: 2.5166 - acc: 0.736 - ETA: 6:11 - loss: 2.5187 - acc: 0.735 - ETA: 6:07 - loss: 2.5095 - acc: 0.735 - ETA: 6:04 - loss: 2.5325 - acc: 0.735 - ETA: 6:00 - loss: 2.5507 - acc: 0.734 - ETA: 5:58 - loss: 2.5518 - acc: 0.733 - ETA: 5:55 - loss: 2.5527 - acc: 0.733 - ETA: 5:50 - loss: 2.5567 - acc: 0.733 - ETA: 5:49 - loss: 2.5512 - acc: 0.733 - ETA: 5:45 - loss: 2.5700 - acc: 0.732 - ETA: 5:43 - loss: 2.5674 - acc: 0.732 - ETA: 5:40 - loss: 2.5789 - acc: 0.731 - ETA: 5:36 - loss: 2.5790 - acc: 0.730 - ETA: 5:32 - loss: 2.5653 - acc: 0.732 - ETA: 5:30 - loss: 2.5685 - acc: 0.731 - ETA: 5:26 - loss: 2.5506 - acc: 0.732 - ETA: 5:24 - loss: 2.5512 - acc: 0.733 - ETA: 5:21 - loss: 2.5669 - acc: 0.732 - ETA: 5:17 - loss: 2.5648 - acc: 0.732 - ETA: 5:12 - loss: 2.5652 - acc: 0.732 - ETA: 5:09 - loss: 2.5703 - acc: 0.731 - ETA: 5:06 - loss: 2.5543 - acc: 0.733 - ETA: 5:04 - loss: 2.5592 - acc: 0.732 - ETA: 5:00 - loss: 2.5619 - acc: 0.732 - ETA: 4:56 - loss: 2.5489 - acc: 0.733 - ETA: 4:54 - loss: 2.5473 - acc: 0.733 - ETA: 4:52 - loss: 2.5479 - acc: 0.733 - ETA: 4:49 - loss: 2.5379 - acc: 0.734 - ETA: 4:46 - loss: 2.5386 - acc: 0.733 - ETA: 4:43 - loss: 2.5496 - acc: 0.732 - ETA: 4:39 - loss: 2.5460 - acc: 0.733 - ETA: 4:36 - loss: 2.5387 - acc: 0.734 - ETA: 4:31 - loss: 2.5453 - acc: 0.734 - ETA: 4:28 - loss: 2.5343 - acc: 0.734 - ETA: 4:25 - loss: 2.5276 - acc: 0.734 - ETA: 4:22 - loss: 2.5322 - acc: 0.734 - ETA: 4:19 - loss: 2.5329 - acc: 0.734 - ETA: 4:16 - loss: 2.5248 - acc: 0.735 - ETA: 4:12 - loss: 2.5237 - acc: 0.735 - ETA: 4:08 - loss: 2.5192 - acc: 0.736 - ETA: 4:05 - loss: 2.5132 - acc: 0.736 - ETA: 4:01 - loss: 2.5244 - acc: 0.735 - ETA: 3:57 - loss: 2.5236 - acc: 0.735 - ETA: 3:53 - loss: 2.5227 - acc: 0.735 - ETA: 3:50 - loss: 2.5235 - acc: 0.735 - ETA: 3:45 - loss: 2.5130 - acc: 0.735 - ETA: 3:42 - loss: 2.5122 - acc: 0.735 - ETA: 3:38 - loss: 2.5147 - acc: 0.735 - ETA: 3:35 - loss: 2.5124 - acc: 0.735 - ETA: 3:31 - loss: 2.5071 - acc: 0.735 - ETA: 3:27 - loss: 2.5081 - acc: 0.735 - ETA: 3:24 - loss: 2.5104 - acc: 0.735 - ETA: 3:21 - loss: 2.5141 - acc: 0.735 - ETA: 3:17 - loss: 2.5134 - acc: 0.734 - ETA: 3:13 - loss: 2.5158 - acc: 0.733 - ETA: 3:09 - loss: 2.5152 - acc: 0.733 - ETA: 3:05 - loss: 2.5187 - acc: 0.733 - ETA: 3:02 - loss: 2.5138 - acc: 0.733 - ETA: 2:58 - loss: 2.5228 - acc: 0.733 - ETA: 2:55 - loss: 2.5220 - acc: 0.733 - ETA: 2:52 - loss: 2.5172 - acc: 0.734 - ETA: 2:48 - loss: 2.5247 - acc: 0.733 - ETA: 2:45 - loss: 2.5239 - acc: 0.732 - ETA: 2:41 - loss: 2.5205 - acc: 0.733 - ETA: 2:37 - loss: 2.5276 - acc: 0.732 - ETA: 2:33 - loss: 2.5295 - acc: 0.732 - ETA: 2:30 - loss: 2.5364 - acc: 0.732 - ETA: 2:26 - loss: 2.5392 - acc: 0.732 - ETA: 2:22 - loss: 2.5360 - acc: 0.732 - ETA: 2:19 - loss: 2.5388 - acc: 0.731 - ETA: 2:15 - loss: 2.5343 - acc: 0.731 - ETA: 2:12 - loss: 2.5360 - acc: 0.731 - ETA: 2:08 - loss: 2.5365 - acc: 0.731 - ETA: 2:04 - loss: 2.5298 - acc: 0.731 - ETA: 2:01 - loss: 2.5256 - acc: 0.731 - ETA: 1:57 - loss: 2.5273 - acc: 0.731 - ETA: 1:54 - loss: 2.5243 - acc: 0.731 - ETA: 1:50 - loss: 2.5329 - acc: 0.731 - ETA: 1:46 - loss: 2.5299 - acc: 0.731 - ETA: 1:42 - loss: 2.5293 - acc: 0.731 - ETA: 1:38 - loss: 2.5298 - acc: 0.732 - ETA: 1:34 - loss: 2.5281 - acc: 0.732 - ETA: 1:31 - loss: 2.5286 - acc: 0.732 - ETA: 1:27 - loss: 2.5247 - acc: 0.732 - ETA: 1:23 - loss: 2.5295 - acc: 0.732 - ETA: 1:20 - loss: 2.5332 - acc: 0.731 - ETA: 1:16 - loss: 2.5368 - acc: 0.731 - ETA: 1:13 - loss: 2.5371 - acc: 0.731 - ETA: 1:10 - loss: 2.5386 - acc: 0.731 - ETA: 1:06 - loss: 2.5337 - acc: 0.731 - ETA: 1:02 - loss: 2.5310 - acc: 0.730 - ETA: 59s - loss: 2.5304 - acc: 0.731 - ETA: 55s - loss: 2.5348 - acc: 0.73 - ETA: 52s - loss: 2.5362 - acc: 0.73 - ETA: 48s - loss: 2.5326 - acc: 0.73 - ETA: 45s - loss: 2.5329 - acc: 0.73 - ETA: 41s - loss: 2.5353 - acc: 0.73 - ETA: 38s - loss: 2.5386 - acc: 0.73 - ETA: 34s - loss: 2.5408 - acc: 0.73 - ETA: 30s - loss: 2.5449 - acc: 0.73 - ETA: 27s - loss: 2.5471 - acc: 0.73 - ETA: 23s - loss: 2.5531 - acc: 0.73 - ETA: 20s - loss: 2.5562 - acc: 0.73 - ETA: 16s - loss: 2.5527 - acc: 0.73 - ETA: 13s - loss: 2.5538 - acc: 0.73 - ETA: 9s - loss: 2.5550 - acc: 0.7303 - ETA: 5s - loss: 2.5544 - acc: 0.730 - ETA: 2s - loss: 2.5555 - acc: 0.730 - 507s 28ms/step - loss: 2.5544 - acc: 0.7306\n"
     ]
    }
   ],
   "source": [
    "with tf.device('/device:GPU:0'):    \n",
    "    model.fit(x_train_raw, y_train_raw, batch_size=128, epochs=5, verbose=1)"
   ]
  },
  {
   "cell_type": "code",
   "execution_count": 48,
   "metadata": {},
   "outputs": [],
   "source": [
    "x_valid_raw = np.array(X_valid)"
   ]
  },
  {
   "cell_type": "code",
   "execution_count": 49,
   "metadata": {},
   "outputs": [],
   "source": [
    "y_valid_raw = np.array(Y_valid)"
   ]
  },
  {
   "cell_type": "code",
   "execution_count": 50,
   "metadata": {},
   "outputs": [
    {
     "name": "stdout",
     "output_type": "stream",
     "text": [
      "2000/2000 [==============================] - ETA: 1: - ETA: 55s - ETA: 41 - ETA: 35 - ETA: 32 - ETA: 29 - ETA: 27 - ETA: 26 - ETA: 25 - ETA: 24 - ETA: 23 - ETA: 22 - ETA: 21 - ETA: 21 - ETA: 20 - ETA: 20 - ETA: 19 - ETA: 18 - ETA: 18 - ETA: 17 - ETA: 17 - ETA: 16 - ETA: 16 - ETA: 15 - ETA: 15 - ETA: 14 - ETA: 14 - ETA: 14 - ETA: 13 - ETA: 13 - ETA: 12 - ETA: 12 - ETA: 11 - ETA: 11 - ETA: 10 - ETA: 10 - ETA: 10 - ETA: 9 - ETA:  - ETA:  - ETA:  - ETA:  - ETA:  - ETA:  - ETA:  - ETA:  - ETA:  - ETA:  - ETA:  - ETA:  - ETA:  - ETA:  - ETA:  - ETA:  - ETA:  - ETA:  - ETA:  - ETA:  - ETA:  - ETA:  - ETA:  - ETA:  - 24s 12ms/step\n"
     ]
    }
   ],
   "source": [
    "test_loss, test_acc = model.evaluate(x_valid_raw, y_valid_raw)"
   ]
  },
  {
   "cell_type": "code",
   "execution_count": null,
   "metadata": {},
   "outputs": [],
   "source": []
  },
  {
   "cell_type": "code",
   "execution_count": 51,
   "metadata": {},
   "outputs": [
    {
     "data": {
      "text/plain": [
       "1.8907573738098145"
      ]
     },
     "execution_count": 51,
     "metadata": {},
     "output_type": "execute_result"
    }
   ],
   "source": [
    "test_loss"
   ]
  },
  {
   "cell_type": "code",
   "execution_count": 52,
   "metadata": {},
   "outputs": [
    {
     "data": {
      "text/plain": [
       "0.0235"
      ]
     },
     "execution_count": 52,
     "metadata": {},
     "output_type": "execute_result"
    }
   ],
   "source": [
    "test_acc"
   ]
  },
  {
   "cell_type": "code",
   "execution_count": null,
   "metadata": {},
   "outputs": [],
   "source": []
  },
  {
   "cell_type": "code",
   "execution_count": null,
   "metadata": {},
   "outputs": [],
   "source": []
  },
  {
   "cell_type": "code",
   "execution_count": null,
   "metadata": {},
   "outputs": [],
   "source": []
  },
  {
   "cell_type": "code",
   "execution_count": null,
   "metadata": {},
   "outputs": [],
   "source": []
  },
  {
   "cell_type": "code",
   "execution_count": null,
   "metadata": {},
   "outputs": [],
   "source": []
  }
 ],
 "metadata": {
  "kernelspec": {
   "display_name": "Python 3",
   "language": "python",
   "name": "python3"
  },
  "language_info": {
   "codemirror_mode": {
    "name": "ipython",
    "version": 3
   },
   "file_extension": ".py",
   "mimetype": "text/x-python",
   "name": "python",
   "nbconvert_exporter": "python",
   "pygments_lexer": "ipython3",
   "version": "3.7.4"
  }
 },
 "nbformat": 4,
 "nbformat_minor": 4
}
