{
 "cells": [
  {
   "cell_type": "code",
   "execution_count": 2,
   "metadata": {},
   "outputs": [
    {
     "name": "stderr",
     "output_type": "stream",
     "text": [
      "Using TensorFlow backend.\n"
     ]
    }
   ],
   "source": [
    "import numpy as np # linear algebra\n",
    "import pandas as pd # data processing, CSV file I/O (e.g. pd.read_csv)\n",
    "import keras \n",
    "\n",
    "from tqdm import tqdm\n",
    "import os\n",
    "from sklearn.model_selection import train_test_split\n",
    "from cv2 import cv2\n",
    "from PIL import Image\n",
    "import tensorflow as tf\n",
    "from matplotlib import pyplot as plt\n",
    "\n",
    "from keras.layers import Dense, Dropout, Flatten, Input\n",
    "from keras.layers.normalization import BatchNormalization\n",
    "from keras.preprocessing.image import ImageDataGenerator, array_to_img, img_to_array, load_img\n",
    "from keras.preprocessing import image\n",
    "from keras.utils import plot_model\n",
    "from keras.models import Model\n",
    "from keras.layers.convolutional import Conv2D\n",
    "from keras.layers.pooling import MaxPooling2D\n",
    "from numpy import array"
   ]
  },
  {
   "cell_type": "code",
   "execution_count": 3,
   "metadata": {},
   "outputs": [],
   "source": [
    "import tensorflow as tf\n",
    "config = tf.ConfigProto()\n",
    "config.gpu_options.allow_growth = True\n",
    "sess = tf.Session(config=config)"
   ]
  },
  {
   "cell_type": "markdown",
   "metadata": {},
   "source": [
    "### Data is downloaded from kaggle: "
   ]
  },
  {
   "cell_type": "code",
   "execution_count": 4,
   "metadata": {},
   "outputs": [],
   "source": [
    "df_train = pd.read_csv('C:\\\\Users\\\\yogit\\\\OneDrive\\\\Documents\\\\diabetic-retinopathy-detection\\\\trainlabels\\\\trainLabels.csv')"
   ]
  },
  {
   "cell_type": "markdown",
   "metadata": {},
   "source": [
    "### Lets take a look at all the labels. '10_left' is a name of the file whereas '0/1/2/3/4' are the labels '10_left' image of the left eye '10_right' image of the right eye for the same person"
   ]
  },
  {
   "cell_type": "code",
   "execution_count": 5,
   "metadata": {},
   "outputs": [
    {
     "data": {
      "text/html": [
       "<div>\n",
       "<style scoped>\n",
       "    .dataframe tbody tr th:only-of-type {\n",
       "        vertical-align: middle;\n",
       "    }\n",
       "\n",
       "    .dataframe tbody tr th {\n",
       "        vertical-align: top;\n",
       "    }\n",
       "\n",
       "    .dataframe thead th {\n",
       "        text-align: right;\n",
       "    }\n",
       "</style>\n",
       "<table border=\"1\" class=\"dataframe\">\n",
       "  <thead>\n",
       "    <tr style=\"text-align: right;\">\n",
       "      <th></th>\n",
       "      <th>image</th>\n",
       "      <th>level</th>\n",
       "    </tr>\n",
       "  </thead>\n",
       "  <tbody>\n",
       "    <tr>\n",
       "      <td>0</td>\n",
       "      <td>10_left</td>\n",
       "      <td>0</td>\n",
       "    </tr>\n",
       "    <tr>\n",
       "      <td>1</td>\n",
       "      <td>10_right</td>\n",
       "      <td>0</td>\n",
       "    </tr>\n",
       "    <tr>\n",
       "      <td>2</td>\n",
       "      <td>13_left</td>\n",
       "      <td>0</td>\n",
       "    </tr>\n",
       "    <tr>\n",
       "      <td>3</td>\n",
       "      <td>13_right</td>\n",
       "      <td>0</td>\n",
       "    </tr>\n",
       "    <tr>\n",
       "      <td>4</td>\n",
       "      <td>15_left</td>\n",
       "      <td>1</td>\n",
       "    </tr>\n",
       "  </tbody>\n",
       "</table>\n",
       "</div>"
      ],
      "text/plain": [
       "      image  level\n",
       "0   10_left      0\n",
       "1  10_right      0\n",
       "2   13_left      0\n",
       "3  13_right      0\n",
       "4   15_left      1"
      ]
     },
     "execution_count": 5,
     "metadata": {},
     "output_type": "execute_result"
    }
   ],
   "source": [
    "df_train.head()"
   ]
  },
  {
   "cell_type": "code",
   "execution_count": 6,
   "metadata": {},
   "outputs": [
    {
     "data": {
      "text/html": [
       "<div>\n",
       "<style scoped>\n",
       "    .dataframe tbody tr th:only-of-type {\n",
       "        vertical-align: middle;\n",
       "    }\n",
       "\n",
       "    .dataframe tbody tr th {\n",
       "        vertical-align: top;\n",
       "    }\n",
       "\n",
       "    .dataframe thead th {\n",
       "        text-align: right;\n",
       "    }\n",
       "</style>\n",
       "<table border=\"1\" class=\"dataframe\">\n",
       "  <thead>\n",
       "    <tr style=\"text-align: right;\">\n",
       "      <th></th>\n",
       "      <th>image</th>\n",
       "      <th>level</th>\n",
       "    </tr>\n",
       "  </thead>\n",
       "  <tbody>\n",
       "    <tr>\n",
       "      <td>35121</td>\n",
       "      <td>44347_right</td>\n",
       "      <td>0</td>\n",
       "    </tr>\n",
       "    <tr>\n",
       "      <td>35122</td>\n",
       "      <td>44348_left</td>\n",
       "      <td>0</td>\n",
       "    </tr>\n",
       "    <tr>\n",
       "      <td>35123</td>\n",
       "      <td>44348_right</td>\n",
       "      <td>0</td>\n",
       "    </tr>\n",
       "    <tr>\n",
       "      <td>35124</td>\n",
       "      <td>44349_left</td>\n",
       "      <td>0</td>\n",
       "    </tr>\n",
       "    <tr>\n",
       "      <td>35125</td>\n",
       "      <td>44349_right</td>\n",
       "      <td>1</td>\n",
       "    </tr>\n",
       "  </tbody>\n",
       "</table>\n",
       "</div>"
      ],
      "text/plain": [
       "             image  level\n",
       "35121  44347_right      0\n",
       "35122   44348_left      0\n",
       "35123  44348_right      0\n",
       "35124   44349_left      0\n",
       "35125  44349_right      1"
      ]
     },
     "execution_count": 6,
     "metadata": {},
     "output_type": "execute_result"
    }
   ],
   "source": [
    "df_train.tail()"
   ]
  },
  {
   "cell_type": "code",
   "execution_count": 7,
   "metadata": {},
   "outputs": [],
   "source": [
    "targets_series = pd.Series(df_train['level'])\n",
    "one_hot = pd.get_dummies(targets_series, sparse = True)"
   ]
  },
  {
   "cell_type": "markdown",
   "metadata": {},
   "source": [
    "### There are 5 types of labels 0/1/2/3/4, thry are distinguished as below \n",
    "### NDPR - Non Proliferative Diabetic Retinopathy\n",
    "### Class Name 0 Normal\n",
    "### 1 Mild NPDR 2 Moderate NPDR 3 Severe NPDR\n",
    "### 4 PDR"
   ]
  },
  {
   "cell_type": "code",
   "execution_count": 8,
   "metadata": {},
   "outputs": [],
   "source": [
    "one_hot_labels = np.asarray(one_hot)"
   ]
  },
  {
   "cell_type": "code",
   "execution_count": 9,
   "metadata": {},
   "outputs": [],
   "source": [
    "one_hot_labelsY = np.asarray(targets_series)"
   ]
  },
  {
   "cell_type": "code",
   "execution_count": 10,
   "metadata": {},
   "outputs": [
    {
     "data": {
      "text/plain": [
       "array([0, 0, 0, 0, 1, 2, 4, 4, 0, 1], dtype=int64)"
      ]
     },
     "execution_count": 10,
     "metadata": {},
     "output_type": "execute_result"
    }
   ],
   "source": [
    "one_hot_labelsY[:10]"
   ]
  },
  {
   "cell_type": "code",
   "execution_count": 12,
   "metadata": {},
   "outputs": [],
   "source": [
    "\n",
    "x_train = []\n",
    "y_train = []\n",
    "x_test = []"
   ]
  },
  {
   "cell_type": "code",
   "execution_count": 13,
   "metadata": {},
   "outputs": [],
   "source": [
    "df_test = []"
   ]
  },
  {
   "cell_type": "code",
   "execution_count": 14,
   "metadata": {},
   "outputs": [],
   "source": [
    "\n",
    "df_test = df_train[:20000]"
   ]
  },
  {
   "cell_type": "code",
   "execution_count": 15,
   "metadata": {},
   "outputs": [
    {
     "name": "stderr",
     "output_type": "stream",
     "text": [
      "100%|██████████| 20000/20000 [1:16:10<00:00,  4.38it/s]\n"
     ]
    }
   ],
   "source": [
    "i=0\n",
    "for f, breed in tqdm(df_test.values):\n",
    "    try:\n",
    "        img = image.load_img(('C:\\\\Users\\\\yogit\\\\OneDrive\\\\Documents\\\\diabetic-retinopathy-detection\\\\train\\\\train\\\\{}.jpeg'.format(f)), target_size=(128, 128))\n",
    "        arr = image.img_to_array(img)\n",
    "        label = one_hot_labelsY[i]\n",
    "        x_train.append(arr)\n",
    "        y_train.append(label)\n",
    "        i += 1 \n",
    "    except:\n",
    "        pass"
   ]
  },
  {
   "cell_type": "code",
   "execution_count": 16,
   "metadata": {},
   "outputs": [
    {
     "data": {
      "text/plain": [
       "20000"
      ]
     },
     "execution_count": 16,
     "metadata": {},
     "output_type": "execute_result"
    }
   ],
   "source": [
    "len(x_train)"
   ]
  },
  {
   "cell_type": "code",
   "execution_count": 17,
   "metadata": {},
   "outputs": [
    {
     "data": {
      "image/png": "[encoded data removed]",
      "text/plain": [
       "<Figure size 432x288 with 1 Axes>"
      ]
     },
     "metadata": {
      "needs_background": "light"
     },
     "output_type": "display_data"
    }
   ],
   "source": [
    "from matplotlib import pyplot as plt\n",
    "plt.imshow(x_train[10011]/255)\n",
    "plt.show()"
   ]
  },
  {
   "cell_type": "code",
   "execution_count": 18,
   "metadata": {},
   "outputs": [],
   "source": [
    "\n",
    "x_valid = []\n",
    "y_valid = []"
   ]
  },
  {
   "cell_type": "code",
   "execution_count": 19,
   "metadata": {},
   "outputs": [],
   "source": [
    "X_train, X_valid, Y_train, Y_valid = train_test_split(x_train, y_train, test_size=0.1, random_state=1)"
   ]
  },
  {
   "cell_type": "code",
   "execution_count": 20,
   "metadata": {},
   "outputs": [],
   "source": [
    "y_train_raw = np.array(Y_train)"
   ]
  },
  {
   "cell_type": "code",
   "execution_count": 21,
   "metadata": {},
   "outputs": [],
   "source": [
    "x_train_raw = np.array(X_train)"
   ]
  },
  {
   "cell_type": "code",
   "execution_count": 22,
   "metadata": {},
   "outputs": [
    {
     "name": "stdout",
     "output_type": "stream",
     "text": [
      "WARNING:tensorflow:From C:\\Users\\yogit\\Anaconda3\\lib\\site-packages\\keras\\backend\\tensorflow_backend.py:74: The name tf.get_default_graph is deprecated. Please use tf.compat.v1.get_default_graph instead.\n",
      "\n",
      "WARNING:tensorflow:From C:\\Users\\yogit\\Anaconda3\\lib\\site-packages\\keras\\backend\\tensorflow_backend.py:517: The name tf.placeholder is deprecated. Please use tf.compat.v1.placeholder instead.\n",
      "\n",
      "WARNING:tensorflow:From C:\\Users\\yogit\\Anaconda3\\lib\\site-packages\\keras\\backend\\tensorflow_backend.py:4138: The name tf.random_uniform is deprecated. Please use tf.random.uniform instead.\n",
      "\n",
      "WARNING:tensorflow:From C:\\Users\\yogit\\Anaconda3\\lib\\site-packages\\keras\\backend\\tensorflow_backend.py:3976: The name tf.nn.max_pool is deprecated. Please use tf.nn.max_pool2d instead.\n",
      "\n",
      "WARNING:tensorflow:From C:\\Users\\yogit\\Anaconda3\\lib\\site-packages\\keras\\backend\\tensorflow_backend.py:133: The name tf.placeholder_with_default is deprecated. Please use tf.compat.v1.placeholder_with_default instead.\n",
      "\n",
      "WARNING:tensorflow:From C:\\Users\\yogit\\Anaconda3\\lib\\site-packages\\keras\\backend\\tensorflow_backend.py:3445: calling dropout (from tensorflow.python.ops.nn_ops) with keep_prob is deprecated and will be removed in a future version.\n",
      "Instructions for updating:\n",
      "Please use `rate` instead of `keep_prob`. Rate should be set to `rate = 1 - keep_prob`.\n"
     ]
    }
   ],
   "source": [
    "visible = Input(shape=(128,128,3))\n",
    "conv6 = Conv2D(16, kernel_size=(6,6), activation='relu')(visible)\n",
    "pool3 = MaxPooling2D(pool_size=(2, 2))(conv6)\n",
    "#bat1 = BatchNormalization(axis = 1)(pool1)\n",
    "\n",
    "conv2 = Conv2D(64, kernel_size=(4,4), activation='relu')(pool3)\n",
    "pool2 = MaxPooling2D(pool_size=(2, 2))(conv2)\n",
    "conv3 = Conv2D(64, kernel_size=(2,2), activation='relu')(pool2)\n",
    "conv4 = Conv2D(128, kernel_size=(2,2), activation='relu')(conv3)\n",
    "conv5 = Conv2D(256, kernel_size=(2,2), activation='relu')(conv4)\n",
    "\n",
    "#pool3 = MaxPooling2D(pool_size=(2, 2))(conv3)\n",
    "flat = Flatten()(conv5)\n",
    "hidden1 = Dense(128, activation='relu')(flat)\n",
    "drop1 = Dropout(0.2)(hidden1)\n",
    "\n",
    "hidden2 = Dense(64, activation='relu')(drop1)\n",
    "drop2 = Dropout(0.2)(hidden2)\n",
    "output = Dense(5, activation='sigmoid')(drop2)\n",
    "#output = Dense(1, activation='sigmoid')(flat)\n",
    "model = Model(inputs=visible, outputs=output)"
   ]
  },
  {
   "cell_type": "code",
   "execution_count": 23,
   "metadata": {},
   "outputs": [],
   "source": [
    "from keras import optimizers\n",
    "opt = optimizers.adam(lr=0.001, decay=0.0)"
   ]
  },
  {
   "cell_type": "code",
   "execution_count": 24,
   "metadata": {},
   "outputs": [
    {
     "name": "stdout",
     "output_type": "stream",
     "text": [
      "WARNING:tensorflow:From C:\\Users\\yogit\\Anaconda3\\lib\\site-packages\\keras\\optimizers.py:790: The name tf.train.Optimizer is deprecated. Please use tf.compat.v1.train.Optimizer instead.\n",
      "\n",
      "WARNING:tensorflow:From C:\\Users\\yogit\\Anaconda3\\lib\\site-packages\\keras\\backend\\tensorflow_backend.py:3341: The name tf.log is deprecated. Please use tf.math.log instead.\n",
      "\n"
     ]
    }
   ],
   "source": [
    "model.compile(optimizer= opt, \n",
    "              loss='sparse_categorical_crossentropy',\n",
    "              metrics=['accuracy'])"
   ]
  },
  {
   "cell_type": "code",
   "execution_count": 25,
   "metadata": {},
   "outputs": [
    {
     "name": "stdout",
     "output_type": "stream",
     "text": [
      "_________________________________________________________________\n",
      "Layer (type)                 Output Shape              Param #   \n",
      "=================================================================\n",
      "input_1 (InputLayer)         (None, 128, 128, 3)       0         \n",
      "_________________________________________________________________\n",
      "conv2d_1 (Conv2D)            (None, 123, 123, 16)      1744      \n",
      "_________________________________________________________________\n",
      "max_pooling2d_1 (MaxPooling2 (None, 61, 61, 16)        0         \n",
      "_________________________________________________________________\n",
      "conv2d_2 (Conv2D)            (None, 58, 58, 64)        16448     \n",
      "_________________________________________________________________\n",
      "max_pooling2d_2 (MaxPooling2 (None, 29, 29, 64)        0         \n",
      "_________________________________________________________________\n",
      "conv2d_3 (Conv2D)            (None, 28, 28, 64)        16448     \n",
      "_________________________________________________________________\n",
      "conv2d_4 (Conv2D)            (None, 27, 27, 128)       32896     \n",
      "_________________________________________________________________\n",
      "conv2d_5 (Conv2D)            (None, 26, 26, 256)       131328    \n",
      "_________________________________________________________________\n",
      "flatten_1 (Flatten)          (None, 173056)            0         \n",
      "_________________________________________________________________\n",
      "dense_1 (Dense)              (None, 128)               22151296  \n",
      "_________________________________________________________________\n",
      "dropout_1 (Dropout)          (None, 128)               0         \n",
      "_________________________________________________________________\n",
      "dense_2 (Dense)              (None, 64)                8256      \n",
      "_________________________________________________________________\n",
      "dropout_2 (Dropout)          (None, 64)                0         \n",
      "_________________________________________________________________\n",
      "dense_3 (Dense)              (None, 5)                 325       \n",
      "=================================================================\n",
      "Total params: 22,358,741\n",
      "Trainable params: 22,358,741\n",
      "Non-trainable params: 0\n",
      "_________________________________________________________________\n"
     ]
    }
   ],
   "source": [
    "model.summary()"
   ]
  },
  {
   "cell_type": "code",
   "execution_count": null,
   "metadata": {},
   "outputs": [
    {
     "name": "stdout",
     "output_type": "stream",
     "text": [
      "WARNING:tensorflow:From C:\\Users\\yogit\\Anaconda3\\lib\\site-packages\\tensorflow_core\\python\\ops\\math_grad.py:1424: where (from tensorflow.python.ops.array_ops) is deprecated and will be removed in a future version.\n",
      "Instructions for updating:\n",
      "Use tf.where in 2.0, which has the same broadcast rule as np.where\n",
      "WARNING:tensorflow:From C:\\Users\\yogit\\Anaconda3\\lib\\site-packages\\keras\\backend\\tensorflow_backend.py:986: The name tf.assign_add is deprecated. Please use tf.compat.v1.assign_add instead.\n",
      "\n",
      "WARNING:tensorflow:From C:\\Users\\yogit\\Anaconda3\\lib\\site-packages\\keras\\backend\\tensorflow_backend.py:973: The name tf.assign is deprecated. Please use tf.compat.v1.assign instead.\n",
      "\n",
      "Epoch 1/5\n",
      "WARNING:tensorflow:From C:\\Users\\yogit\\Anaconda3\\lib\\site-packages\\keras\\backend\\tensorflow_backend.py:174: The name tf.get_default_session is deprecated. Please use tf.compat.v1.get_default_session instead.\n",
      "\n",
      "WARNING:tensorflow:From C:\\Users\\yogit\\Anaconda3\\lib\\site-packages\\keras\\backend\\tensorflow_backend.py:190: The name tf.global_variables is deprecated. Please use tf.compat.v1.global_variables instead.\n",
      "\n",
      "WARNING:tensorflow:From C:\\Users\\yogit\\Anaconda3\\lib\\site-packages\\keras\\backend\\tensorflow_backend.py:199: The name tf.is_variable_initialized is deprecated. Please use tf.compat.v1.is_variable_initialized instead.\n",
      "\n",
      "WARNING:tensorflow:From C:\\Users\\yogit\\Anaconda3\\lib\\site-packages\\keras\\backend\\tensorflow_backend.py:206: The name tf.variables_initializer is deprecated. Please use tf.compat.v1.variables_initializer instead.\n",
      "\n",
      "18000/18000 [==============================] - ETA: 18:54 - loss: 6.7633 - acc: 0.10 - ETA: 12:59 - loss: 4.3915 - acc: 0.44 - ETA: 11:32 - loss: 3.5691 - acc: 0.52 - ETA: 10:40 - loss: 3.1317 - acc: 0.55 - ETA: 10:07 - loss: 2.8607 - acc: 0.59 - ETA: 10:01 - loss: 2.7484 - acc: 0.61 - ETA: 9:55 - loss: 2.5731 - acc: 0.6384 - ETA: 9:47 - loss: 2.4314 - acc: 0.647 - ETA: 9:32 - loss: 2.3598 - acc: 0.657 - ETA: 9:16 - loss: 2.3524 - acc: 0.660 - ETA: 9:13 - loss: 2.3684 - acc: 0.664 - ETA: 9:03 - loss: 2.3182 - acc: 0.669 - ETA: 9:00 - loss: 2.2948 - acc: 0.669 - ETA: 8:45 - loss: 2.2301 - acc: 0.677 - ETA: 8:34 - loss: 2.2145 - acc: 0.678 - ETA: 8:30 - loss: 2.1842 - acc: 0.680 - ETA: 8:20 - loss: 2.1811 - acc: 0.682 - ETA: 8:16 - loss: 2.1712 - acc: 0.684 - ETA: 8:10 - loss: 2.1624 - acc: 0.689 - ETA: 8:08 - loss: 2.1426 - acc: 0.689 - ETA: 8:03 - loss: 2.1191 - acc: 0.689 - ETA: 7:59 - loss: 2.1149 - acc: 0.695 - ETA: 7:57 - loss: 2.0950 - acc: 0.696 - ETA: 7:52 - loss: 2.0876 - acc: 0.699 - ETA: 7:47 - loss: 2.0649 - acc: 0.703 - ETA: 7:41 - loss: 2.0491 - acc: 0.704 - ETA: 7:34 - loss: 2.0389 - acc: 0.707 - ETA: 7:27 - loss: 2.0337 - acc: 0.708 - ETA: 7:21 - loss: 2.0207 - acc: 0.708 - ETA: 7:18 - loss: 2.0077 - acc: 0.708 - ETA: 7:14 - loss: 1.9917 - acc: 0.711 - ETA: 7:11 - loss: 1.9924 - acc: 0.711 - ETA: 7:09 - loss: 1.9890 - acc: 0.712 - ETA: 7:05 - loss: 1.9814 - acc: 0.713 - ETA: 6:58 - loss: 1.9848 - acc: 0.713 - ETA: 6:55 - loss: 1.9813 - acc: 0.714 - ETA: 6:50 - loss: 1.9810 - acc: 0.716 - ETA: 6:44 - loss: 2.0001 - acc: 0.717 - ETA: 6:39 - loss: 2.0042 - acc: 0.717 - ETA: 6:36 - loss: 2.0143 - acc: 0.718 - ETA: 6:32 - loss: 2.0103 - acc: 0.719 - ETA: 6:26 - loss: 2.0126 - acc: 0.719 - ETA: 6:22 - loss: 2.0199 - acc: 0.721 - ETA: 6:19 - loss: 2.0235 - acc: 0.722 - ETA: 6:16 - loss: 2.0434 - acc: 0.720 - ETA: 6:12 - loss: 2.0626 - acc: 0.720 - ETA: 6:07 - loss: 2.0645 - acc: 0.721 - ETA: 6:02 - loss: 2.0660 - acc: 0.722 - ETA: 5:59 - loss: 2.0904 - acc: 0.721 - ETA: 5:55 - loss: 2.1152 - acc: 0.722 - ETA: 5:52 - loss: 2.1335 - acc: 0.722 - ETA: 5:48 - loss: 2.1531 - acc: 0.722 - ETA: 5:43 - loss: 2.1900 - acc: 0.721 - ETA: 5:39 - loss: 2.2299 - acc: 0.720 - ETA: 5:35 - loss: 2.2675 - acc: 0.719 - ETA: 5:31 - loss: 2.3231 - acc: 0.718 - ETA: 5:28 - loss: 2.3767 - acc: 0.716 - ETA: 5:24 - loss: 2.4105 - acc: 0.716 - ETA: 5:20 - loss: 2.4644 - acc: 0.714 - ETA: 5:16 - loss: 2.5072 - acc: 0.714 - ETA: 5:10 - loss: 2.5559 - acc: 0.712 - ETA: 5:04 - loss: 2.5952 - acc: 0.711 - ETA: 5:00 - loss: 2.6238 - acc: 0.711 - ETA: 4:56 - loss: 2.6267 - acc: 0.713 - ETA: 5:02 - loss: 2.6467 - acc: 0.713 - ETA: 4:57 - loss: 2.6548 - acc: 0.713 - ETA: 4:51 - loss: 2.6756 - acc: 0.712 - ETA: 4:46 - loss: 2.6972 - acc: 0.712 - ETA: 4:40 - loss: 2.7126 - acc: 0.712 - ETA: 4:35 - loss: 2.7296 - acc: 0.712 - ETA: 4:30 - loss: 2.7538 - acc: 0.712 - ETA: 4:25 - loss: 2.7696 - acc: 0.713 - ETA: 4:20 - loss: 2.7897 - acc: 0.713 - ETA: 4:15 - loss: 2.7988 - acc: 0.714 - ETA: 4:09 - loss: 2.8182 - acc: 0.714 - ETA: 4:04 - loss: 2.8293 - acc: 0.714 - ETA: 3:59 - loss: 2.8428 - acc: 0.714 - ETA: 3:55 - loss: 2.8573 - acc: 0.715 - ETA: 3:50 - loss: 2.8775 - acc: 0.715 - ETA: 3:45 - loss: 2.8989 - acc: 0.715 - ETA: 3:41 - loss: 2.9347 - acc: 0.714 - ETA: 3:38 - loss: 2.9526 - acc: 0.715 - ETA: 3:34 - loss: 2.9822 - acc: 0.714 - ETA: 3:30 - loss: 3.0023 - acc: 0.715 - ETA: 3:26 - loss: 3.0245 - acc: 0.715 - ETA: 3:23 - loss: 3.0305 - acc: 0.715 - ETA: 3:20 - loss: 3.0433 - acc: 0.716 - ETA: 3:16 - loss: 3.0572 - acc: 0.716 - ETA: 3:12 - loss: 3.0794 - acc: 0.716 - ETA: 3:09 - loss: 3.0968 - acc: 0.716 - ETA: 3:05 - loss: 3.1122 - acc: 0.716 - ETA: 3:02 - loss: 3.1329 - acc: 0.715 - ETA: 2:58 - loss: 3.1490 - acc: 0.716 - ETA: 2:54 - loss: 3.1620 - acc: 0.716 - ETA: 2:51 - loss: 3.1787 - acc: 0.716 - ETA: 2:47 - loss: 3.1977 - acc: 0.716 - ETA: 2:43 - loss: 3.2046 - acc: 0.717 - ETA: 2:40 - loss: 3.2153 - acc: 0.717 - ETA: 2:36 - loss: 3.2244 - acc: 0.718 - ETA: 2:32 - loss: 3.2284 - acc: 0.718 - ETA: 2:28 - loss: 3.2348 - acc: 0.719 - ETA: 2:24 - loss: 3.2459 - acc: 0.719 - ETA: 2:20 - loss: 3.2484 - acc: 0.720 - ETA: 2:16 - loss: 3.2627 - acc: 0.720 - ETA: 2:12 - loss: 3.2673 - acc: 0.720 - ETA: 2:09 - loss: 3.2907 - acc: 0.720 - ETA: 2:05 - loss: 3.3042 - acc: 0.720 - ETA: 2:01 - loss: 3.3244 - acc: 0.719 - ETA: 1:58 - loss: 3.3354 - acc: 0.719 - ETA: 1:54 - loss: 3.3494 - acc: 0.719 - ETA: 1:51 - loss: 3.3473 - acc: 0.720 - ETA: 1:47 - loss: 3.3588 - acc: 0.720 - ETA: 1:43 - loss: 3.3700 - acc: 0.720 - ETA: 1:39 - loss: 3.3862 - acc: 0.720 - ETA: 1:35 - loss: 3.4013 - acc: 0.720 - ETA: 1:32 - loss: 3.4138 - acc: 0.719 - ETA: 1:28 - loss: 3.4252 - acc: 0.720 - ETA: 1:24 - loss: 3.4460 - acc: 0.719 - ETA: 1:20 - loss: 3.4548 - acc: 0.719 - ETA: 1:17 - loss: 3.4594 - acc: 0.720 - ETA: 1:13 - loss: 3.4679 - acc: 0.720 - ETA: 1:09 - loss: 3.4836 - acc: 0.720 - ETA: 1:05 - loss: 3.4878 - acc: 0.720 - ETA: 1:02 - loss: 3.4926 - acc: 0.720 - ETA: 58s - loss: 3.5097 - acc: 0.720 - ETA: 54s - loss: 3.5225 - acc: 0.72 - ETA: 50s - loss: 3.5360 - acc: 0.72 - ETA: 47s - loss: 3.5563 - acc: 0.71 - ETA: 43s - loss: 3.5615 - acc: 0.71 - ETA: 39s - loss: 3.5774 - acc: 0.71 - ETA: 36s - loss: 3.5815 - acc: 0.72 - ETA: 32s - loss: 3.5941 - acc: 0.71 - ETA: 28s - loss: 3.6000 - acc: 0.72 - ETA: 24s - loss: 3.6076 - acc: 0.72 - ETA: 21s - loss: 3.6218 - acc: 0.72 - ETA: 17s - loss: 3.6301 - acc: 0.72 - ETA: 13s - loss: 3.6419 - acc: 0.71 - ETA: 9s - loss: 3.6498 - acc: 0.7199 - ETA: 6s - loss: 3.6613 - acc: 0.719 - ETA: 2s - loss: 3.6762 - acc: 0.719 - 531s 29ms/step - loss: 3.6818 - acc: 0.7195\n",
      "Epoch 2/5\n",
      " 4864/18000 [=======>......................] - ETA: 8:51 - loss: 4.6148 - acc: 0.718 - ETA: 8:57 - loss: 4.1714 - acc: 0.757 - ETA: 9:31 - loss: 4.2793 - acc: 0.747 - ETA: 9:22 - loss: 4.3664 - acc: 0.746 - ETA: 9:26 - loss: 4.6201 - acc: 0.728 - ETA: 9:07 - loss: 4.5976 - acc: 0.734 - ETA: 9:10 - loss: 4.5809 - acc: 0.733 - ETA: 8:47 - loss: 4.5855 - acc: 0.730 - ETA: 8:33 - loss: 4.6592 - acc: 0.724 - ETA: 8:31 - loss: 4.6431 - acc: 0.726 - ETA: 8:18 - loss: 4.6740 - acc: 0.725 - ETA: 8:06 - loss: 4.6684 - acc: 0.724 - ETA: 8:00 - loss: 4.6449 - acc: 0.726 - ETA: 8:00 - loss: 4.5628 - acc: 0.729 - ETA: 8:03 - loss: 4.5663 - acc: 0.730 - ETA: 7:59 - loss: 4.5300 - acc: 0.733 - ETA: 7:59 - loss: 4.5209 - acc: 0.733 - ETA: 7:59 - loss: 4.5965 - acc: 0.727 - ETA: 7:54 - loss: 4.5519 - acc: 0.731 - ETA: 7:53 - loss: 4.5866 - acc: 0.729 - ETA: 7:48 - loss: 4.6356 - acc: 0.727 - ETA: 7:46 - loss: 4.6238 - acc: 0.728 - ETA: 7:45 - loss: 4.6456 - acc: 0.725 - ETA: 7:42 - loss: 4.6184 - acc: 0.726 - ETA: 7:38 - loss: 4.6689 - acc: 0.725 - ETA: 7:31 - loss: 4.6763 - acc: 0.724 - ETA: 7:28 - loss: 4.6319 - acc: 0.727 - ETA: 7:26 - loss: 4.6269 - acc: 0.728 - ETA: 7:21 - loss: 4.5961 - acc: 0.729 - ETA: 7:15 - loss: 4.5924 - acc: 0.730 - ETA: 7:10 - loss: 4.5770 - acc: 0.731 - ETA: 7:07 - loss: 4.5741 - acc: 0.732 - ETA: 7:03 - loss: 4.5637 - acc: 0.733 - ETA: 6:59 - loss: 4.5654 - acc: 0.733 - ETA: 6:55 - loss: 4.5630 - acc: 0.733 - ETA: 6:50 - loss: 4.5714 - acc: 0.733 - ETA: 6:45 - loss: 4.5587 - acc: 0.734 - ETA: 6:42 - loss: 4.5537 - acc: 0.7350"
     ]
    }
   ],
   "source": [
    "with tf.device('/device:GPU:0'):    \n",
    "    model.fit(x_train_raw, y_train_raw, batch_size=128, epochs=5, verbose=1)"
   ]
  },
  {
   "cell_type": "code",
   "execution_count": null,
   "metadata": {},
   "outputs": [],
   "source": []
  }
 ],
 "metadata": {
  "kernelspec": {
   "display_name": "Python 3",
   "language": "python",
   "name": "python3"
  },
  "language_info": {
   "codemirror_mode": {
    "name": "ipython",
    "version": 3
   },
   "file_extension": ".py",
   "mimetype": "text/x-python",
   "name": "python",
   "nbconvert_exporter": "python",
   "pygments_lexer": "ipython3",
   "version": "3.7.4"
  }
 },
 "nbformat": 4,
 "nbformat_minor": 4
}
